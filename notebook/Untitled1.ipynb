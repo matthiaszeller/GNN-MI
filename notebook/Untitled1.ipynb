{
 "cells": [
  {
   "cell_type": "code",
   "execution_count": 1,
   "id": "b7b1a294",
   "metadata": {},
   "outputs": [],
   "source": [
    "%load_ext autoreload\n",
    "%autoreload 2"
   ]
  },
  {
   "cell_type": "code",
   "execution_count": 2,
   "id": "7b76e482",
   "metadata": {
    "pycharm": {
     "is_executing": true,
     "name": "#%%\n"
    },
    "tags": []
   },
   "outputs": [],
   "source": [
    "import numpy as np\n",
    "import pandas as pd\n",
    "import matplotlib.pyplot as plt\n",
    "import seaborn as sns\n",
    "sns.set(style='whitegrid')"
   ]
  },
  {
   "cell_type": "code",
   "execution_count": 3,
   "id": "c14de5dc",
   "metadata": {},
   "outputs": [],
   "source": [
    "# Manage paths\n",
    "%run setup_notebooks.py"
   ]
  },
  {
   "cell_type": "code",
   "execution_count": 4,
   "id": "3a0975ae",
   "metadata": {},
   "outputs": [],
   "source": [
    "from toolbox import wandb_export\n",
    "from src import setup"
   ]
  },
  {
   "cell_type": "code",
   "execution_count": 5,
   "id": "7b0f6222",
   "metadata": {},
   "outputs": [],
   "source": [
    "import logging\n",
    "logging.getLogger().setLevel(logging.INFO)"
   ]
  },
  {
   "cell_type": "markdown",
   "id": "ba74f20d",
   "metadata": {},
   "source": [
    "---"
   ]
  },
  {
   "cell_type": "code",
   "execution_count": 6,
   "id": "ce3b958c",
   "metadata": {},
   "outputs": [
    {
     "name": "stderr",
     "output_type": "stream",
     "text": [
      "2022-04-20 14:10:58,915 [setup] [INFO] get_data_path(): using user-defined data path\n"
     ]
    }
   ],
   "source": [
    "path = setup.get_dataset_path('models')"
   ]
  },
  {
   "cell_type": "code",
   "execution_count": 8,
   "id": "7f32a1c0",
   "metadata": {},
   "outputs": [],
   "source": [
    "import wandb"
   ]
  },
  {
   "cell_type": "code",
   "execution_count": 9,
   "id": "315b97b2",
   "metadata": {},
   "outputs": [
    {
     "data": {
      "text/plain": [
       "5"
      ]
     },
     "execution_count": 9,
     "metadata": {},
     "output_type": "execute_result"
    }
   ],
   "source": [
    "runs = wandb.Api().runs('mazeller/egnn-mi', filters={'tags': 'test-ggho5n'})\n",
    "len(runs)"
   ]
  },
  {
   "cell_type": "code",
   "execution_count": 10,
   "id": "b5658aee",
   "metadata": {},
   "outputs": [
    {
     "data": {
      "text/plain": [
       "['2twydzvi', '1nk4mviw', '13ydacsh', '1jm36hca', '2vu548g3']"
      ]
     },
     "execution_count": 10,
     "metadata": {},
     "output_type": "execute_result"
    }
   ],
   "source": [
    "ids = [e.id for e in runs]\n",
    "ids"
   ]
  },
  {
   "cell_type": "code",
   "execution_count": 19,
   "id": "ac7eae4f",
   "metadata": {},
   "outputs": [
    {
     "data": {
      "text/html": [
       "<div>\n",
       "<style scoped>\n",
       "    .dataframe tbody tr th:only-of-type {\n",
       "        vertical-align: middle;\n",
       "    }\n",
       "\n",
       "    .dataframe tbody tr th {\n",
       "        vertical-align: top;\n",
       "    }\n",
       "\n",
       "    .dataframe thead th {\n",
       "        text-align: right;\n",
       "    }\n",
       "</style>\n",
       "<table border=\"1\" class=\"dataframe\">\n",
       "  <thead>\n",
       "    <tr style=\"text-align: right;\">\n",
       "      <th></th>\n",
       "      <th>file</th>\n",
       "      <th>type</th>\n",
       "      <th>g_x</th>\n",
       "      <th>pred</th>\n",
       "      <th>y</th>\n",
       "      <th>id</th>\n",
       "    </tr>\n",
       "  </thead>\n",
       "  <tbody>\n",
       "    <tr>\n",
       "      <th>0</th>\n",
       "      <td>CHUV01_LAD.pt</td>\n",
       "      <td>train</td>\n",
       "      <td>[[1.0, 0.0, 0.0]]</td>\n",
       "      <td>[0.36181354522705, 0.638186514377594]</td>\n",
       "      <td>0</td>\n",
       "      <td>2twydzvi</td>\n",
       "    </tr>\n",
       "    <tr>\n",
       "      <th>1</th>\n",
       "      <td>CHUV01_LAD_diffusion_0.pt</td>\n",
       "      <td>train</td>\n",
       "      <td>[[1.0, 0.0, 0.0]]</td>\n",
       "      <td>[0.278908342123031, 0.7210916876792901]</td>\n",
       "      <td>0</td>\n",
       "      <td>2twydzvi</td>\n",
       "    </tr>\n",
       "    <tr>\n",
       "      <th>2</th>\n",
       "      <td>CHUV01_LAD_diffusion_1.pt</td>\n",
       "      <td>train</td>\n",
       "      <td>[[1.0, 0.0, 0.0]]</td>\n",
       "      <td>[0.5399911403656, 0.460008889436721]</td>\n",
       "      <td>0</td>\n",
       "      <td>2twydzvi</td>\n",
       "    </tr>\n",
       "    <tr>\n",
       "      <th>3</th>\n",
       "      <td>CHUV01_LCX.pt</td>\n",
       "      <td>train</td>\n",
       "      <td>[[0.0, 1.0, 0.0]]</td>\n",
       "      <td>[0.9981886744499201, 0.0018113497644660001]</td>\n",
       "      <td>1</td>\n",
       "      <td>2twydzvi</td>\n",
       "    </tr>\n",
       "    <tr>\n",
       "      <th>4</th>\n",
       "      <td>CHUV01_LCX_diffusion_0.pt</td>\n",
       "      <td>train</td>\n",
       "      <td>[[0.0, 1.0, 0.0]]</td>\n",
       "      <td>[0.9994127750396721, 0.000587254122365]</td>\n",
       "      <td>1</td>\n",
       "      <td>2twydzvi</td>\n",
       "    </tr>\n",
       "    <tr>\n",
       "      <th>...</th>\n",
       "      <td>...</td>\n",
       "      <td>...</td>\n",
       "      <td>...</td>\n",
       "      <td>...</td>\n",
       "      <td>...</td>\n",
       "      <td>...</td>\n",
       "    </tr>\n",
       "    <tr>\n",
       "      <th>2287</th>\n",
       "      <td>OLV041_LAD.pt</td>\n",
       "      <td>test</td>\n",
       "      <td>[[1.0, 0.0, 0.0]]</td>\n",
       "      <td>[0.690310060977935, 0.30968990921974104]</td>\n",
       "      <td>0</td>\n",
       "      <td>2vu548g3</td>\n",
       "    </tr>\n",
       "    <tr>\n",
       "      <th>2288</th>\n",
       "      <td>OLV041_LCX.pt</td>\n",
       "      <td>test</td>\n",
       "      <td>[[0.0, 1.0, 0.0]]</td>\n",
       "      <td>[0.972227692604064, 0.027772255241870002]</td>\n",
       "      <td>0</td>\n",
       "      <td>2vu548g3</td>\n",
       "    </tr>\n",
       "    <tr>\n",
       "      <th>2289</th>\n",
       "      <td>OLV041_RCA.pt</td>\n",
       "      <td>test</td>\n",
       "      <td>[[0.0, 0.0, 1.0]]</td>\n",
       "      <td>[0.798999309539794, 0.20100072026252702]</td>\n",
       "      <td>1</td>\n",
       "      <td>2vu548g3</td>\n",
       "    </tr>\n",
       "    <tr>\n",
       "      <th>2290</th>\n",
       "      <td>OLV048_LAD.pt</td>\n",
       "      <td>test</td>\n",
       "      <td>[[1.0, 0.0, 0.0]]</td>\n",
       "      <td>[0.33530977368354803, 0.6646901965141291]</td>\n",
       "      <td>1</td>\n",
       "      <td>2vu548g3</td>\n",
       "    </tr>\n",
       "    <tr>\n",
       "      <th>2291</th>\n",
       "      <td>OLV048_LCX.pt</td>\n",
       "      <td>test</td>\n",
       "      <td>[[0.0, 1.0, 0.0]]</td>\n",
       "      <td>[0.9183601140975951, 0.081639923155307]</td>\n",
       "      <td>0</td>\n",
       "      <td>2vu548g3</td>\n",
       "    </tr>\n",
       "  </tbody>\n",
       "</table>\n",
       "<p>2292 rows × 6 columns</p>\n",
       "</div>"
      ],
      "text/plain": [
       "                           file   type                g_x  \\\n",
       "0                 CHUV01_LAD.pt  train  [[1.0, 0.0, 0.0]]   \n",
       "1     CHUV01_LAD_diffusion_0.pt  train  [[1.0, 0.0, 0.0]]   \n",
       "2     CHUV01_LAD_diffusion_1.pt  train  [[1.0, 0.0, 0.0]]   \n",
       "3                 CHUV01_LCX.pt  train  [[0.0, 1.0, 0.0]]   \n",
       "4     CHUV01_LCX_diffusion_0.pt  train  [[0.0, 1.0, 0.0]]   \n",
       "...                         ...    ...                ...   \n",
       "2287              OLV041_LAD.pt   test  [[1.0, 0.0, 0.0]]   \n",
       "2288              OLV041_LCX.pt   test  [[0.0, 1.0, 0.0]]   \n",
       "2289              OLV041_RCA.pt   test  [[0.0, 0.0, 1.0]]   \n",
       "2290              OLV048_LAD.pt   test  [[1.0, 0.0, 0.0]]   \n",
       "2291              OLV048_LCX.pt   test  [[0.0, 1.0, 0.0]]   \n",
       "\n",
       "                                             pred  y        id  \n",
       "0           [0.36181354522705, 0.638186514377594]  0  2twydzvi  \n",
       "1         [0.278908342123031, 0.7210916876792901]  0  2twydzvi  \n",
       "2            [0.5399911403656, 0.460008889436721]  0  2twydzvi  \n",
       "3     [0.9981886744499201, 0.0018113497644660001]  1  2twydzvi  \n",
       "4         [0.9994127750396721, 0.000587254122365]  1  2twydzvi  \n",
       "...                                           ... ..       ...  \n",
       "2287     [0.690310060977935, 0.30968990921974104]  0  2vu548g3  \n",
       "2288    [0.972227692604064, 0.027772255241870002]  0  2vu548g3  \n",
       "2289     [0.798999309539794, 0.20100072026252702]  1  2vu548g3  \n",
       "2290    [0.33530977368354803, 0.6646901965141291]  1  2vu548g3  \n",
       "2291      [0.9183601140975951, 0.081639923155307]  0  2vu548g3  \n",
       "\n",
       "[2292 rows x 6 columns]"
      ]
     },
     "execution_count": 19,
     "metadata": {},
     "output_type": "execute_result"
    }
   ],
   "source": [
    "df = []\n",
    "for i in ids:\n",
    "    sub = pd.read_json(path.joinpath(f'pred-{i}.json'))\n",
    "    sub['id'] = i\n",
    "    df.append(sub)\n",
    "    \n",
    "df = pd.concat(df, ignore_index=True)\n",
    "df"
   ]
  },
  {
   "cell_type": "code",
   "execution_count": 20,
   "id": "8b07f4fe",
   "metadata": {},
   "outputs": [],
   "source": [
    "df['yhat'] = df.pred.apply(np.argmax)\n",
    "df['correct'] = df.y == df.yhat\n",
    "df['aug'] = df.file.str.contains('diffusion')"
   ]
  },
  {
   "cell_type": "code",
   "execution_count": 23,
   "id": "e059dc79",
   "metadata": {},
   "outputs": [
    {
     "data": {
      "text/plain": [
       "id        aug  \n",
       "13ydacsh  False    0.637037\n",
       "          True     0.651852\n",
       "1jm36hca  False    0.607407\n",
       "          True     0.655556\n",
       "1nk4mviw  False    0.601449\n",
       "          True     0.659420\n",
       "2twydzvi  False    0.644444\n",
       "          True     0.711111\n",
       "2vu548g3  False    0.601504\n",
       "          True     0.642857\n",
       "Name: correct, dtype: float64"
      ]
     },
     "execution_count": 23,
     "metadata": {},
     "output_type": "execute_result"
    }
   ],
   "source": [
    "train = df[df.type == 'train']\n",
    "train.groupby(['id', 'aug']).correct.mean()"
   ]
  }
 ],
 "metadata": {
  "kernelspec": {
   "display_name": "Python [conda env:gnn]",
   "language": "python",
   "name": "conda-env-gnn-py"
  },
  "language_info": {
   "codemirror_mode": {
    "name": "ipython",
    "version": 3
   },
   "file_extension": ".py",
   "mimetype": "text/x-python",
   "name": "python",
   "nbconvert_exporter": "python",
   "pygments_lexer": "ipython3",
   "version": "3.7.11"
  }
 },
 "nbformat": 4,
 "nbformat_minor": 5
}
