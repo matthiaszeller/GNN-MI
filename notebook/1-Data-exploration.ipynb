{
 "cells": [
  {
   "cell_type": "code",
   "execution_count": 1,
   "outputs": [],
   "source": [
    "%load_ext autoreload\n",
    "%autoreload 2"
   ],
   "metadata": {
    "collapsed": false,
    "pycharm": {
     "name": "#%%\n"
    }
   }
  },
  {
   "cell_type": "code",
   "execution_count": 35,
   "metadata": {
    "collapsed": true
   },
   "outputs": [],
   "source": [
    "import numpy as np\n",
    "import matplotlib.pyplot as plt\n",
    "import seaborn as sns\n",
    "import pandas as pd\n",
    "\n",
    "from pathlib import Path"
   ]
  },
  {
   "cell_type": "code",
   "execution_count": 10,
   "outputs": [],
   "source": [
    "from src import setup"
   ],
   "metadata": {
    "collapsed": false,
    "pycharm": {
     "name": "#%%\n"
    }
   }
  },
  {
   "cell_type": "markdown",
   "source": [
    "# Requirements\n",
    "\n",
    "Put the data path into `src/data-path.txt`."
   ],
   "metadata": {
    "collapsed": false,
    "pycharm": {
     "name": "#%% md\n"
    }
   }
  },
  {
   "cell_type": "code",
   "execution_count": 11,
   "outputs": [],
   "source": [
    "path = setup.get_data_path()"
   ],
   "metadata": {
    "collapsed": false,
    "pycharm": {
     "name": "#%%\n"
    }
   }
  },
  {
   "cell_type": "markdown",
   "source": [
    "The path in `src/data-path.txt` should point to the location where the data is organized as follows:\n",
    "\n",
    "```\n",
    ".\n",
    "├── ClinicalCFD\n",
    "│   ├── MagnitudeClinical\n",
    "│   └── VectorClinical\n",
    "├── ...\n",
    "├── labels\n",
    "│   ├── Cases_highrisk_noMI.xlsx\n",
    "│   ├── FC_AI_cases_discrepant.xlsx\n",
    "│   ├── list of FC.xlsx\n",
    "│   ├── Matching.xlsx\n",
    "│   └── WSSdescriptors_AvgValues.xlsx\n",
    "├── ...\n",
    "```"
   ],
   "metadata": {
    "collapsed": false,
    "pycharm": {
     "name": "#%% md\n"
    }
   }
  },
  {
   "cell_type": "markdown",
   "source": [
    "# Labels"
   ],
   "metadata": {
    "collapsed": false,
    "pycharm": {
     "name": "#%% md\n"
    }
   }
  },
  {
   "cell_type": "code",
   "execution_count": 13,
   "outputs": [],
   "source": [
    "path_labels = path.joinpath('labels')"
   ],
   "metadata": {
    "collapsed": false,
    "pycharm": {
     "name": "#%%\n"
    }
   }
  },
  {
   "cell_type": "code",
   "execution_count": 14,
   "outputs": [
    {
     "data": {
      "text/plain": "['Cases_highrisk_noMI.xlsx',\n 'FC_AI_cases_discrepant.xlsx',\n 'list of FC.xlsx',\n 'Matching.xlsx',\n 'WSSdescriptors_AvgValues.xlsx',\n '.~lock.Cases_highrisk_noMI.xlsx#',\n '.~lock.FC_AI_cases_discrepant.xlsx#']"
     },
     "execution_count": 14,
     "metadata": {},
     "output_type": "execute_result"
    }
   ],
   "source": [
    "[\n",
    "    e.name for e in path_labels.iterdir()\n",
    "]"
   ],
   "metadata": {
    "collapsed": false,
    "pycharm": {
     "name": "#%%\n"
    }
   }
  },
  {
   "cell_type": "code",
   "execution_count": 16,
   "outputs": [
    {
     "data": {
      "text/plain": "           Code    TAWSS       OSI       RRT  transWSS       CFI  TAWSSax  \\\n0    CHUV01_LAD  3.64717  0.014050  0.846456  0.073336  0.057265  3.58750   \n1    CHUV01_LCX  2.55975  0.003294  0.611145  0.055230  0.040732  2.48901   \n2    CHUV02_LAD  2.63011  0.005814  0.582346  0.056851  0.040757  2.59072   \n3    CHUV02_LCX  2.98097  0.000154  0.373309  0.039946  0.014991  2.95874   \n4    CHUV02_RCA  2.43675  0.006072  0.583699  0.098474  0.056273  2.29555   \n..          ...      ...       ...       ...       ...       ...      ...   \n183  OLV048_LCX  2.53027  0.000036  0.407267  0.017071  0.007672  2.52312   \n184  OLV049_LAD  2.86934  0.010788  0.673836  0.028470  0.035946  2.84023   \n185  OLV049_RCA  2.09383  0.001343  0.756832  0.034190  0.030094  2.02367   \n186  OLV050_LCX  2.82282  0.000498  0.409097  0.058604  0.025448  2.76545   \n187  OLV050_RCA  1.78164  0.000840  0.677463  0.034215  0.023665  1.74719   \n\n      TAWSSsc  WSSratio      TSVI  FC  \n0    0.158997  0.176172  228.3910   0  \n1    0.337315  0.290763   86.0399   1  \n2    0.225770  0.202236   60.5216   1  \n3    0.257049  0.077637   22.2836   0  \n4    0.589120  0.467824   60.5002   0  \n..        ...       ...       ...  ..  \n183  0.127840  0.048128   10.4213   0  \n184  0.160913  0.326003  102.0050   1  \n185  0.213538  0.165229   39.1061   0  \n186  0.386589  0.137708   33.7438   1  \n187  0.252821  0.155462   28.5505   0  \n\n[188 rows x 11 columns]",
      "text/html": "<div>\n<style scoped>\n    .dataframe tbody tr th:only-of-type {\n        vertical-align: middle;\n    }\n\n    .dataframe tbody tr th {\n        vertical-align: top;\n    }\n\n    .dataframe thead th {\n        text-align: right;\n    }\n</style>\n<table border=\"1\" class=\"dataframe\">\n  <thead>\n    <tr style=\"text-align: right;\">\n      <th></th>\n      <th>Code</th>\n      <th>TAWSS</th>\n      <th>OSI</th>\n      <th>RRT</th>\n      <th>transWSS</th>\n      <th>CFI</th>\n      <th>TAWSSax</th>\n      <th>TAWSSsc</th>\n      <th>WSSratio</th>\n      <th>TSVI</th>\n      <th>FC</th>\n    </tr>\n  </thead>\n  <tbody>\n    <tr>\n      <th>0</th>\n      <td>CHUV01_LAD</td>\n      <td>3.64717</td>\n      <td>0.014050</td>\n      <td>0.846456</td>\n      <td>0.073336</td>\n      <td>0.057265</td>\n      <td>3.58750</td>\n      <td>0.158997</td>\n      <td>0.176172</td>\n      <td>228.3910</td>\n      <td>0</td>\n    </tr>\n    <tr>\n      <th>1</th>\n      <td>CHUV01_LCX</td>\n      <td>2.55975</td>\n      <td>0.003294</td>\n      <td>0.611145</td>\n      <td>0.055230</td>\n      <td>0.040732</td>\n      <td>2.48901</td>\n      <td>0.337315</td>\n      <td>0.290763</td>\n      <td>86.0399</td>\n      <td>1</td>\n    </tr>\n    <tr>\n      <th>2</th>\n      <td>CHUV02_LAD</td>\n      <td>2.63011</td>\n      <td>0.005814</td>\n      <td>0.582346</td>\n      <td>0.056851</td>\n      <td>0.040757</td>\n      <td>2.59072</td>\n      <td>0.225770</td>\n      <td>0.202236</td>\n      <td>60.5216</td>\n      <td>1</td>\n    </tr>\n    <tr>\n      <th>3</th>\n      <td>CHUV02_LCX</td>\n      <td>2.98097</td>\n      <td>0.000154</td>\n      <td>0.373309</td>\n      <td>0.039946</td>\n      <td>0.014991</td>\n      <td>2.95874</td>\n      <td>0.257049</td>\n      <td>0.077637</td>\n      <td>22.2836</td>\n      <td>0</td>\n    </tr>\n    <tr>\n      <th>4</th>\n      <td>CHUV02_RCA</td>\n      <td>2.43675</td>\n      <td>0.006072</td>\n      <td>0.583699</td>\n      <td>0.098474</td>\n      <td>0.056273</td>\n      <td>2.29555</td>\n      <td>0.589120</td>\n      <td>0.467824</td>\n      <td>60.5002</td>\n      <td>0</td>\n    </tr>\n    <tr>\n      <th>...</th>\n      <td>...</td>\n      <td>...</td>\n      <td>...</td>\n      <td>...</td>\n      <td>...</td>\n      <td>...</td>\n      <td>...</td>\n      <td>...</td>\n      <td>...</td>\n      <td>...</td>\n      <td>...</td>\n    </tr>\n    <tr>\n      <th>183</th>\n      <td>OLV048_LCX</td>\n      <td>2.53027</td>\n      <td>0.000036</td>\n      <td>0.407267</td>\n      <td>0.017071</td>\n      <td>0.007672</td>\n      <td>2.52312</td>\n      <td>0.127840</td>\n      <td>0.048128</td>\n      <td>10.4213</td>\n      <td>0</td>\n    </tr>\n    <tr>\n      <th>184</th>\n      <td>OLV049_LAD</td>\n      <td>2.86934</td>\n      <td>0.010788</td>\n      <td>0.673836</td>\n      <td>0.028470</td>\n      <td>0.035946</td>\n      <td>2.84023</td>\n      <td>0.160913</td>\n      <td>0.326003</td>\n      <td>102.0050</td>\n      <td>1</td>\n    </tr>\n    <tr>\n      <th>185</th>\n      <td>OLV049_RCA</td>\n      <td>2.09383</td>\n      <td>0.001343</td>\n      <td>0.756832</td>\n      <td>0.034190</td>\n      <td>0.030094</td>\n      <td>2.02367</td>\n      <td>0.213538</td>\n      <td>0.165229</td>\n      <td>39.1061</td>\n      <td>0</td>\n    </tr>\n    <tr>\n      <th>186</th>\n      <td>OLV050_LCX</td>\n      <td>2.82282</td>\n      <td>0.000498</td>\n      <td>0.409097</td>\n      <td>0.058604</td>\n      <td>0.025448</td>\n      <td>2.76545</td>\n      <td>0.386589</td>\n      <td>0.137708</td>\n      <td>33.7438</td>\n      <td>1</td>\n    </tr>\n    <tr>\n      <th>187</th>\n      <td>OLV050_RCA</td>\n      <td>1.78164</td>\n      <td>0.000840</td>\n      <td>0.677463</td>\n      <td>0.034215</td>\n      <td>0.023665</td>\n      <td>1.74719</td>\n      <td>0.252821</td>\n      <td>0.155462</td>\n      <td>28.5505</td>\n      <td>0</td>\n    </tr>\n  </tbody>\n</table>\n<p>188 rows × 11 columns</p>\n</div>"
     },
     "execution_count": 16,
     "metadata": {},
     "output_type": "execute_result"
    }
   ],
   "source": [
    "df_labels = pd.read_excel(path_labels.joinpath('WSSdescriptors_AvgValues.xlsx'), engine='openpyxl')\n",
    "df_labels"
   ],
   "metadata": {
    "collapsed": false,
    "pycharm": {
     "name": "#%%\n"
    }
   }
  },
  {
   "cell_type": "code",
   "execution_count": 27,
   "outputs": [
    {
     "data": {
      "text/plain": "False"
     },
     "execution_count": 27,
     "metadata": {},
     "output_type": "execute_result"
    }
   ],
   "source": [
    "df_labels.isna().any(axis=None)"
   ],
   "metadata": {
    "collapsed": false,
    "pycharm": {
     "name": "#%%\n"
    }
   }
  },
  {
   "cell_type": "code",
   "execution_count": 18,
   "outputs": [
    {
     "data": {
      "text/plain": "True"
     },
     "execution_count": 18,
     "metadata": {},
     "output_type": "execute_result"
    }
   ],
   "source": [
    "df_labels.Code.is_unique"
   ],
   "metadata": {
    "collapsed": false,
    "pycharm": {
     "name": "#%%\n"
    }
   }
  },
  {
   "cell_type": "code",
   "execution_count": 20,
   "outputs": [
    {
     "data": {
      "text/plain": "0    108\n1     80\nName: FC, dtype: int64"
     },
     "execution_count": 20,
     "metadata": {},
     "output_type": "execute_result"
    }
   ],
   "source": [
    "df_labels.FC.value_counts()"
   ],
   "metadata": {
    "collapsed": false,
    "pycharm": {
     "name": "#%%\n"
    }
   }
  },
  {
   "cell_type": "markdown",
   "source": [
    "## Patients statistics"
   ],
   "metadata": {
    "collapsed": false,
    "pycharm": {
     "name": "#%% md\n"
    }
   }
  },
  {
   "cell_type": "code",
   "execution_count": 22,
   "outputs": [],
   "source": [
    "df_labels['patient'] = df_labels.Code.apply(lambda s: s.split('_')[0])"
   ],
   "metadata": {
    "collapsed": false,
    "pycharm": {
     "name": "#%%\n"
    }
   }
  },
  {
   "cell_type": "code",
   "execution_count": 32,
   "outputs": [
    {
     "data": {
      "text/plain": "80"
     },
     "execution_count": 32,
     "metadata": {},
     "output_type": "execute_result"
    }
   ],
   "source": [
    "df_labels.patient.nunique()"
   ],
   "metadata": {
    "collapsed": false,
    "pycharm": {
     "name": "#%%\n"
    }
   }
  },
  {
   "cell_type": "code",
   "execution_count": 31,
   "outputs": [
    {
     "data": {
      "text/plain": "2    52\n3    28\nName: n_record_per_patient, dtype: int64"
     },
     "execution_count": 31,
     "metadata": {},
     "output_type": "execute_result"
    }
   ],
   "source": [
    "df_labels.groupby('patient').count()['Code'].rename('n_record_per_patient').value_counts()"
   ],
   "metadata": {
    "collapsed": false,
    "pycharm": {
     "name": "#%%\n"
    }
   }
  },
  {
   "cell_type": "markdown",
   "source": [
    "# Data"
   ],
   "metadata": {
    "collapsed": false,
    "pycharm": {
     "name": "#%% md\n"
    }
   }
  },
  {
   "cell_type": "code",
   "execution_count": 34,
   "outputs": [],
   "source": [
    "path_data = path.joinpath('ClinicalCFD')\n",
    "path_magnitude = path_data.joinpath('MagnitudeClinical/')\n",
    "path_vector = path_data.joinpath('VectorClinical/')"
   ],
   "metadata": {
    "collapsed": false,
    "pycharm": {
     "name": "#%%\n"
    }
   }
  },
  {
   "cell_type": "code",
   "execution_count": 52,
   "outputs": [],
   "source": [
    "files_magnitude = list(map(lambda e: e.name, path_magnitude.glob('*.vtp')))\n",
    "files_vector = list(map(lambda e: e.name, path_vector.glob('*.vtp')))"
   ],
   "metadata": {
    "collapsed": false,
    "pycharm": {
     "name": "#%%\n"
    }
   }
  },
  {
   "cell_type": "code",
   "execution_count": 53,
   "outputs": [
    {
     "data": {
      "text/plain": "(188, 188)"
     },
     "execution_count": 53,
     "metadata": {},
     "output_type": "execute_result"
    }
   ],
   "source": [
    "len(files_magnitude), len(files_vector)"
   ],
   "metadata": {
    "collapsed": false,
    "pycharm": {
     "name": "#%%\n"
    }
   }
  },
  {
   "cell_type": "code",
   "execution_count": 54,
   "outputs": [
    {
     "data": {
      "text/plain": "(['FRH005_LCX_WSS.vtp', 'FRH012_RCA_WSS.vtp', 'OLV009_LAD_WSS.vtp'],\n ['OLV015_LAD_WSSMag.vtp', 'CHUV08_LCX_WSSMag.vtp', 'OLV047_LCX_WSSMag.vtp'])"
     },
     "execution_count": 54,
     "metadata": {},
     "output_type": "execute_result"
    }
   ],
   "source": [
    "files_vector[:3], files_magnitude[:3]"
   ],
   "metadata": {
    "collapsed": false,
    "pycharm": {
     "name": "#%%\n"
    }
   }
  },
  {
   "cell_type": "code",
   "execution_count": 55,
   "outputs": [
    {
     "data": {
      "text/plain": "(188, 188)"
     },
     "execution_count": 55,
     "metadata": {},
     "output_type": "execute_result"
    }
   ],
   "source": [
    "# Compare patients between the two sets\n",
    "extract_name_vessel = lambda name: '_'.join(name.split('_')[:-1])\n",
    "\n",
    "patients_vector = list(map(extract_name_vessel, files_vector))\n",
    "patients_magnitude = list(map(extract_name_vessel, files_magnitude))\n",
    "len(set(patients_magnitude)), len(set(patients_vector))"
   ],
   "metadata": {
    "collapsed": false,
    "pycharm": {
     "name": "#%%\n"
    }
   }
  },
  {
   "cell_type": "code",
   "execution_count": 56,
   "outputs": [
    {
     "data": {
      "text/plain": "188"
     },
     "execution_count": 56,
     "metadata": {},
     "output_type": "execute_result"
    }
   ],
   "source": [
    "len(set(patients_vector).intersection(patients_magnitude))"
   ],
   "metadata": {
    "collapsed": false,
    "pycharm": {
     "name": "#%%\n"
    }
   }
  }
 ],
 "metadata": {
  "kernelspec": {
   "name": "conda-env-ada-py",
   "language": "python",
   "display_name": "Python [conda env:ada]"
  },
  "language_info": {
   "codemirror_mode": {
    "name": "ipython",
    "version": 2
   },
   "file_extension": ".py",
   "mimetype": "text/x-python",
   "name": "python",
   "nbconvert_exporter": "python",
   "pygments_lexer": "ipython2",
   "version": "2.7.6"
  }
 },
 "nbformat": 4,
 "nbformat_minor": 0
}