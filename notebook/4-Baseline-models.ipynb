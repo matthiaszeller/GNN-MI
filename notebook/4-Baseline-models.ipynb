{
 "cells": [
  {
   "cell_type": "code",
   "execution_count": 1,
   "id": "df5b1529",
   "metadata": {
    "collapsed": false,
    "jupyter": {
     "outputs_hidden": false
    },
    "pycharm": {
     "name": "#%%\n"
    }
   },
   "outputs": [],
   "source": [
    "%load_ext autoreload\n",
    "%autoreload 2"
   ]
  },
  {
   "cell_type": "code",
   "execution_count": 2,
   "id": "39cb1cfd",
   "metadata": {
    "tags": []
   },
   "outputs": [],
   "source": [
    "import numpy as np\n",
    "import matplotlib.pyplot as plt\n",
    "import seaborn as sns\n",
    "import pandas as pd\n",
    "\n",
    "from pathlib import Path"
   ]
  },
  {
   "cell_type": "code",
   "execution_count": 3,
   "id": "83b66c82",
   "metadata": {},
   "outputs": [],
   "source": [
    "import torch\n",
    "from torch_geometric.utils import to_scipy_sparse_matrix"
   ]
  },
  {
   "cell_type": "code",
   "execution_count": 4,
   "id": "251bf89e",
   "metadata": {},
   "outputs": [],
   "source": [
    "%run setup_notebooks.py"
   ]
  },
  {
   "cell_type": "code",
   "execution_count": 5,
   "id": "04cf51d8",
   "metadata": {
    "collapsed": false,
    "jupyter": {
     "outputs_hidden": false
    },
    "pycharm": {
     "name": "#%%\n"
    }
   },
   "outputs": [],
   "source": [
    "from src import setup"
   ]
  },
  {
   "cell_type": "code",
   "execution_count": 6,
   "id": "147759c4",
   "metadata": {},
   "outputs": [],
   "source": [
    "import logging\n",
    "logging.getLogger().setLevel(logging.INFO)"
   ]
  },
  {
   "cell_type": "markdown",
   "id": "074d236e",
   "metadata": {},
   "source": [
    "# Load"
   ]
  },
  {
   "cell_type": "code",
   "execution_count": 7,
   "id": "99ad722b",
   "metadata": {},
   "outputs": [],
   "source": [
    "from datasets import split_data, PatientDataset\n",
    "from create_data import read_tsvi"
   ]
  },
  {
   "cell_type": "code",
   "execution_count": 9,
   "id": "965ca309",
   "metadata": {},
   "outputs": [
    {
     "name": "stderr",
     "output_type": "stream",
     "text": [
      "2022-05-16 12:07:07,975 [setup] [INFO] get_data_path(): using user-defined data path\n",
      "2022-05-16 12:07:07,977 [setup] [INFO] get_data_path(): using user-defined data path\n",
      "2022-05-16 12:07:08,467 [datasets] [INFO] split_data (test_set, split_list) = (PatientDataset(19, type=test, in_memory=True), [(PatientDataset(133, type=train, in_memory=True), PatientDataset(36, type=val, in_memory=True)), (PatientDataset(135, type=train, in_memory=True), PatientDataset(34, type=val, in_memory=True)), (PatientDataset(135, type=train, in_memory=True), PatientDataset(34, type=val, in_memory=True)), (PatientDataset(138, type=train, in_memory=True), PatientDataset(31, type=val, in_memory=True)), (PatientDataset(135, type=train, in_memory=True), PatientDataset(34, type=val, in_memory=True))])\n",
      "2022-05-16 12:07:08,467 [datasets] [INFO] sanity checking data splits\n",
      "2022-05-16 12:07:08,471 [setup] [INFO] get_data_path(): using user-defined data path\n",
      "2022-05-16 12:07:08,472 [create_data] [INFO] parsing tsvi ...\n"
     ]
    }
   ],
   "source": [
    "config = {\n",
    "    'dataset.name': 'CoordToCnc_perimeters',\n",
    "    'dataset.num_node_features': 1,\n",
    "    'cv.seed': 0,\n",
    "    'cv.k_fold': 5,\n",
    "    'dataset.in_memory': True\n",
    "}\n",
    "\n",
    "test_set, split_list = split_data(path=setup.get_dataset_path(config['dataset.name']),\n",
    "                                  num_node_features=config['dataset.num_node_features'],\n",
    "                                  seed=config['cv.seed'],\n",
    "                                  cv=True,\n",
    "                                  k_cross=config['cv.k_fold'],\n",
    "                                  # Args for PatientDataset\n",
    "                                  in_memory=config['dataset.in_memory'])\n",
    "\n",
    "# Load tsvi\n",
    "path_data_in, _ = setup.get_data_paths()\n",
    "path_labels = path_data_in.joinpath('CFD/labels/WSSdescriptors_AvgValues.xlsx')\n",
    "data_tsvi = read_tsvi(path_labels)"
   ]
  },
  {
   "cell_type": "markdown",
   "id": "82294e3a",
   "metadata": {},
   "source": [
    "## Quadratic forms"
   ]
  },
  {
   "cell_type": "code",
   "execution_count": 10,
   "id": "b1271193",
   "metadata": {},
   "outputs": [
    {
     "name": "stderr",
     "output_type": "stream",
     "text": [
      "2022-05-16 12:07:46,080 [setup] [INFO] get_data_path(): using user-defined data path\n"
     ]
    },
    {
     "name": "stdout",
     "output_type": "stream",
     "text": [
      "dict_keys(['input_dset', 'tau0', 'kmax', 'features'])\n"
     ]
    }
   ],
   "source": [
    "path = setup.get_dataset_path('perimeters_graph_features')\n",
    "data_quadratic = torch.load(path.joinpath('graph_features.pt'))\n",
    "print(data_quadratic.keys())\n",
    "data_quadratic = data_quadratic['features']"
   ]
  },
  {
   "cell_type": "code",
   "execution_count": 11,
   "id": "7ca40720",
   "metadata": {},
   "outputs": [],
   "source": [
    "data_quadratic_simple = {\n",
    "    k: v[0] for k, v in data_quadratic.items()\n",
    "}"
   ]
  },
  {
   "cell_type": "markdown",
   "id": "dde76087",
   "metadata": {},
   "source": [
    "# Models"
   ]
  },
  {
   "cell_type": "code",
   "execution_count": 82,
   "id": "0e385529",
   "metadata": {},
   "outputs": [],
   "source": [
    "from sklearn.linear_model import LogisticRegression\n",
    "from sklearn.svm import SVC\n",
    "from sklearn.tree import DecisionTreeClassifier\n",
    "from sklearn.ensemble import RandomForestClassifier"
   ]
  },
  {
   "cell_type": "code",
   "execution_count": 13,
   "id": "bd51dda2",
   "metadata": {},
   "outputs": [],
   "source": [
    "from baseline import Dataset, Model"
   ]
  },
  {
   "cell_type": "markdown",
   "id": "f52c9ad4",
   "metadata": {},
   "source": [
    "## Toy Example"
   ]
  },
  {
   "cell_type": "code",
   "execution_count": 14,
   "id": "b8941825",
   "metadata": {},
   "outputs": [],
   "source": [
    "dset_tsvi = Dataset(include_tsvi=data_tsvi)"
   ]
  },
  {
   "cell_type": "code",
   "execution_count": 15,
   "id": "006ab39e",
   "metadata": {},
   "outputs": [
    {
     "data": {
      "text/html": [
       "<div>\n",
       "<style scoped>\n",
       "    .dataframe tbody tr th:only-of-type {\n",
       "        vertical-align: middle;\n",
       "    }\n",
       "\n",
       "    .dataframe tbody tr th {\n",
       "        vertical-align: top;\n",
       "    }\n",
       "\n",
       "    .dataframe thead th {\n",
       "        text-align: right;\n",
       "    }\n",
       "</style>\n",
       "<table border=\"1\" class=\"dataframe\">\n",
       "  <thead>\n",
       "    <tr style=\"text-align: right;\">\n",
       "      <th></th>\n",
       "      <th>train.1.auc</th>\n",
       "      <th>val.1.auc</th>\n",
       "      <th>test.1.auc</th>\n",
       "      <th>train.accuracy</th>\n",
       "      <th>train.0.precision</th>\n",
       "      <th>train.0.recall</th>\n",
       "      <th>train.0.f1-score</th>\n",
       "      <th>train.1.precision</th>\n",
       "      <th>train.1.recall</th>\n",
       "      <th>train.1.f1-score</th>\n",
       "      <th>...</th>\n",
       "      <th>val.1.precision</th>\n",
       "      <th>val.1.recall</th>\n",
       "      <th>val.1.f1-score</th>\n",
       "      <th>test.accuracy</th>\n",
       "      <th>test.0.precision</th>\n",
       "      <th>test.0.recall</th>\n",
       "      <th>test.0.f1-score</th>\n",
       "      <th>test.1.precision</th>\n",
       "      <th>test.1.recall</th>\n",
       "      <th>test.1.f1-score</th>\n",
       "    </tr>\n",
       "  </thead>\n",
       "  <tbody>\n",
       "    <tr>\n",
       "      <th>mean</th>\n",
       "      <td>0.790503</td>\n",
       "      <td>0.751577</td>\n",
       "      <td>0.547727</td>\n",
       "      <td>0.744259</td>\n",
       "      <td>0.773754</td>\n",
       "      <td>0.786063</td>\n",
       "      <td>0.779234</td>\n",
       "      <td>0.704981</td>\n",
       "      <td>0.687417</td>\n",
       "      <td>0.695062</td>\n",
       "      <td>...</td>\n",
       "      <td>0.651707</td>\n",
       "      <td>0.654286</td>\n",
       "      <td>0.648179</td>\n",
       "      <td>0.536842</td>\n",
       "      <td>0.593077</td>\n",
       "      <td>0.636364</td>\n",
       "      <td>0.612836</td>\n",
       "      <td>0.446032</td>\n",
       "      <td>0.400000</td>\n",
       "      <td>0.419832</td>\n",
       "    </tr>\n",
       "    <tr>\n",
       "      <th>std</th>\n",
       "      <td>0.025833</td>\n",
       "      <td>0.117007</td>\n",
       "      <td>0.039691</td>\n",
       "      <td>0.030155</td>\n",
       "      <td>0.036106</td>\n",
       "      <td>0.033919</td>\n",
       "      <td>0.024422</td>\n",
       "      <td>0.034655</td>\n",
       "      <td>0.066180</td>\n",
       "      <td>0.043213</td>\n",
       "      <td>...</td>\n",
       "      <td>0.100024</td>\n",
       "      <td>0.165835</td>\n",
       "      <td>0.122463</td>\n",
       "      <td>0.023538</td>\n",
       "      <td>0.014408</td>\n",
       "      <td>0.064282</td>\n",
       "      <td>0.034146</td>\n",
       "      <td>0.030942</td>\n",
       "      <td>0.055902</td>\n",
       "      <td>0.030954</td>\n",
       "    </tr>\n",
       "  </tbody>\n",
       "</table>\n",
       "<p>2 rows × 24 columns</p>\n",
       "</div>"
      ],
      "text/plain": [
       "      train.1.auc  val.1.auc  test.1.auc  train.accuracy  train.0.precision  \\\n",
       "mean     0.790503   0.751577    0.547727        0.744259           0.773754   \n",
       "std      0.025833   0.117007    0.039691        0.030155           0.036106   \n",
       "\n",
       "      train.0.recall  train.0.f1-score  train.1.precision  train.1.recall  \\\n",
       "mean        0.786063          0.779234           0.704981        0.687417   \n",
       "std         0.033919          0.024422           0.034655        0.066180   \n",
       "\n",
       "      train.1.f1-score  ...  val.1.precision  val.1.recall  val.1.f1-score  \\\n",
       "mean          0.695062  ...         0.651707      0.654286        0.648179   \n",
       "std           0.043213  ...         0.100024      0.165835        0.122463   \n",
       "\n",
       "      test.accuracy  test.0.precision  test.0.recall  test.0.f1-score  \\\n",
       "mean       0.536842          0.593077       0.636364         0.612836   \n",
       "std        0.023538          0.014408       0.064282         0.034146   \n",
       "\n",
       "      test.1.precision  test.1.recall  test.1.f1-score  \n",
       "mean          0.446032       0.400000         0.419832  \n",
       "std           0.030942       0.055902         0.030954  \n",
       "\n",
       "[2 rows x 24 columns]"
      ]
     },
     "execution_count": 15,
     "metadata": {},
     "output_type": "execute_result"
    }
   ],
   "source": [
    "logreg_tsvi = Model(LogisticRegression(class_weight='balanced'), dset_tsvi)\n",
    "logreg_tsvi_summary = logreg_tsvi.pipeline(split_list, test_set)\n",
    "logreg_tsvi_summary.T"
   ]
  },
  {
   "cell_type": "code",
   "execution_count": 16,
   "id": "efa602d2",
   "metadata": {},
   "outputs": [
    {
     "data": {
      "text/plain": [
       "{'model_name': 'LogisticRegression',\n",
       " 'model_class_weight': 'balanced',\n",
       " 'data_tsvi': False,\n",
       " 'data_node_feat': False,\n",
       " 'data_graph_feat': True,\n",
       " 'data_feature_names': ['artery_0', 'artery_1', 'artery_2', 'tsvi']}"
      ]
     },
     "execution_count": 16,
     "metadata": {},
     "output_type": "execute_result"
    }
   ],
   "source": [
    "logreg_tsvi.describe_model()"
   ]
  },
  {
   "cell_type": "markdown",
   "id": "f27314af",
   "metadata": {},
   "source": [
    "## Automate"
   ]
  },
  {
   "cell_type": "code",
   "execution_count": 17,
   "id": "927986a0",
   "metadata": {},
   "outputs": [],
   "source": [
    "quad_feat_names = ['x^TLx']\n",
    "quad_feat_names_full = quad_feat_names + [f'x^TM{i+1}x' for i in range(next(iter(data_quadratic.values())).shape[0]-1)]\n",
    "\n",
    "datasets = [\n",
    "    # Only artery type\n",
    "    Dataset(),\n",
    "    # Artery type + Tsvi\n",
    "    Dataset(include_tsvi=data_tsvi),\n",
    "    # Quadratic form with Laplacian only\n",
    "    Dataset(additional_graph_features=data_quadratic_simple, additional_graph_feature_names=quad_feat_names),\n",
    "    # Quadratic form with diffusion\n",
    "    Dataset(additional_graph_features=data_quadratic, additional_graph_feature_names=quad_feat_names_full),\n",
    "    # Quadratic forms with tsvi\n",
    "    Dataset(include_tsvi=data_tsvi, additional_graph_features=data_quadratic_simple, additional_graph_feature_names=quad_feat_names),\n",
    "    Dataset(include_tsvi=data_tsvi, additional_graph_features=data_quadratic, additional_graph_feature_names=quad_feat_names_full),\n",
    "]"
   ]
  },
  {
   "cell_type": "code",
   "execution_count": 98,
   "id": "6dd46072",
   "metadata": {},
   "outputs": [],
   "source": [
    "# List of tuples:\n",
    "# (model, params)   - model is an instanciation of a sklearn model \n",
    "#                   - params is a dictionnary for grid search\n",
    "C_grid = np.logspace(-3, 3, 20)\n",
    "sklearn_models = [\n",
    "    (\n",
    "        LogisticRegression(class_weight='balanced'),\n",
    "        {'C': C_grid}\n",
    "    ),\n",
    "    (\n",
    "        SVC(class_weight='balanced', probability=True),\n",
    "        {'C': C_grid, 'kernel': ('linear', 'rbf', 'poly')}\n",
    "    ),\n",
    "    (\n",
    "        DecisionTreeClassifier(class_weight='balanced'),\n",
    "        {'min_samples_leaf': (2, 5, 10,), 'max_depth': (2, 3, 4, 5, 6, 10)}\n",
    "    ),\n",
    "    (\n",
    "        RandomForestClassifier(class_weight='balanced'),\n",
    "        {'max_depth': (2, 3, 4, 5, 6), 'min_samples_leaf': (2, 5, 10)}\n",
    "    )\n",
    "]"
   ]
  },
  {
   "cell_type": "markdown",
   "id": "473faeac",
   "metadata": {},
   "source": [
    "### Hyperparameter tuning"
   ]
  },
  {
   "cell_type": "code",
   "execution_count": 99,
   "id": "019f7bc7",
   "metadata": {},
   "outputs": [
    {
     "name": "stdout",
     "output_type": "stream",
     "text": [
      "........................"
     ]
    }
   ],
   "source": [
    "results = []\n",
    "kfold = 5\n",
    "for i, dset in enumerate(datasets):\n",
    "    for j, (sklearn_model, grid) in enumerate(sklearn_models):\n",
    "        print('.', end='')\n",
    "        model = Model(sklearn_model, dset)\n",
    "        res = model.grid_search(split_list, grid, kfold=kfold)\n",
    "        \n",
    "        results.append({\n",
    "            'id_dataset': i,\n",
    "            'id_model': j,\n",
    "            'config': model.describe_model(),\n",
    "            'tuning': res\n",
    "        })"
   ]
  },
  {
   "cell_type": "code",
   "execution_count": 106,
   "id": "81964d49",
   "metadata": {},
   "outputs": [],
   "source": [
    "def get_best_model(tuning_results, dataset_id: int, verbose: bool = True):\n",
    "    samples = [e for e in tuning_results if e['id_dataset'] == dataset_id]\n",
    "    df_res = []\n",
    "    for e in samples:\n",
    "        sub = e['tuning'].copy()\n",
    "        sub['id_model'] = e['id_model']\n",
    "        sub['model_name'] = e['config']['model_name']\n",
    "        df_res.append(sub)\n",
    "    \n",
    "    df_res = pd.concat(df_res, ignore_index=True)\n",
    "    df_res['score'] = df_res.mean_test_score - df_res.std_test_score\n",
    "    df_res.sort_values('score', ascending=False, inplace=True, )\n",
    "    \n",
    "    if verbose:\n",
    "        nbest = 5\n",
    "        df_show = df_res.iloc[:nbest][['mean_test_score', 'std_test_score', 'model_name']]\n",
    "        print(f'top {nbest} results:\\n{df_show}')\n",
    "    \n",
    "    winner = df_res.iloc[0]\n",
    "    params = {\n",
    "        '_'.join(col.split('_')[1:]): winner[col]\n",
    "        for col in df_res.columns\n",
    "        if 'param_' in col and not pd.isna(winner[col])\n",
    "    }\n",
    "    \n",
    "    return winner.id_model, params"
   ]
  },
  {
   "cell_type": "code",
   "execution_count": 107,
   "id": "d3beb847",
   "metadata": {},
   "outputs": [
    {
     "name": "stdout",
     "output_type": "stream",
     "text": [
      "top 5 results:\n",
      "     mean_test_score  std_test_score              model_name\n",
      "100         0.692685        0.023980  RandomForestClassifier\n",
      "82          0.696794        0.034006  DecisionTreeClassifier\n",
      "81          0.696794        0.034006  DecisionTreeClassifier\n",
      "80          0.696794        0.034006  DecisionTreeClassifier\n",
      "106         0.679321        0.028901  RandomForestClassifier\n"
     ]
    },
    {
     "data": {
      "text/plain": [
       "(3, {'max_depth': 2, 'min_samples_leaf': 10})"
      ]
     },
     "execution_count": 107,
     "metadata": {},
     "output_type": "execute_result"
    }
   ],
   "source": [
    "get_best_model(results, 1)"
   ]
  },
  {
   "cell_type": "code",
   "execution_count": 108,
   "id": "98172ecd",
   "metadata": {},
   "outputs": [
    {
     "name": "stdout",
     "output_type": "stream",
     "text": [
      "top 5 results:\n",
      "     mean_test_score  std_test_score              model_name\n",
      "100         0.507347        0.096241  RandomForestClassifier\n",
      "111         0.507347        0.096241  RandomForestClassifier\n",
      "110         0.507347        0.096241  RandomForestClassifier\n",
      "109         0.507347        0.096241  RandomForestClassifier\n",
      "105         0.507347        0.096241  RandomForestClassifier\n",
      "top 5 results:\n",
      "     mean_test_score  std_test_score              model_name\n",
      "100         0.692685        0.023980  RandomForestClassifier\n",
      "82          0.696794        0.034006  DecisionTreeClassifier\n",
      "81          0.696794        0.034006  DecisionTreeClassifier\n",
      "80          0.696794        0.034006  DecisionTreeClassifier\n",
      "106         0.679321        0.028901  RandomForestClassifier\n",
      "top 5 results:\n",
      "    mean_test_score  std_test_score model_name\n",
      "47         0.588940        0.119448        SVC\n",
      "50         0.588940        0.119448        SVC\n",
      "56         0.574086        0.110265        SVC\n",
      "71         0.574086        0.110265        SVC\n",
      "53         0.574086        0.110265        SVC\n",
      "top 5 results:\n",
      "     mean_test_score  std_test_score              model_name\n",
      "52          0.597513        0.041528                     SVC\n",
      "106         0.614310        0.102385  RandomForestClassifier\n",
      "77          0.621834        0.112846                     SVC\n",
      "103         0.619471        0.110633  RandomForestClassifier\n",
      "74          0.637803        0.131991                     SVC\n",
      "top 5 results:\n",
      "    mean_test_score  std_test_score              model_name\n",
      "81         0.696794        0.034006  DecisionTreeClassifier\n",
      "82         0.696794        0.034006  DecisionTreeClassifier\n",
      "80         0.686524        0.038890  DecisionTreeClassifier\n",
      "98         0.679701        0.036340  RandomForestClassifier\n",
      "99         0.664289        0.030984  RandomForestClassifier\n",
      "top 5 results:\n",
      "    mean_test_score  std_test_score              model_name\n",
      "83         0.701347        0.037432  DecisionTreeClassifier\n",
      "82         0.696794        0.034006  DecisionTreeClassifier\n",
      "81         0.696794        0.034006  DecisionTreeClassifier\n",
      "80         0.686524        0.038890  DecisionTreeClassifier\n",
      "84         0.687288        0.050420  DecisionTreeClassifier\n"
     ]
    }
   ],
   "source": [
    "tuning_winners = [\n",
    "    (id_dataset, *get_best_model(results, id_dataset))\n",
    "    for id_dataset in range(len((datasets)))\n",
    "]"
   ]
  },
  {
   "cell_type": "code",
   "execution_count": 109,
   "id": "e9ed828d",
   "metadata": {},
   "outputs": [
    {
     "data": {
      "text/plain": [
       "[(0, 3, {'max_depth': 2, 'min_samples_leaf': 10}),\n",
       " (1, 3, {'max_depth': 2, 'min_samples_leaf': 10}),\n",
       " (2, 1, {'C': 0.6951927961775606, 'kernel': 'linear'}),\n",
       " (3, 1, {'C': 1.438449888287663, 'kernel': 'poly'}),\n",
       " (4, 2, {'max_depth': 2, 'min_samples_leaf': 5}),\n",
       " (5, 2, {'max_depth': 3, 'min_samples_leaf': 2})]"
      ]
     },
     "execution_count": 109,
     "metadata": {},
     "output_type": "execute_result"
    }
   ],
   "source": [
    "tuning_winners"
   ]
  },
  {
   "cell_type": "markdown",
   "id": "8e5a7a77",
   "metadata": {},
   "source": [
    "### Refit and test"
   ]
  },
  {
   "cell_type": "code",
   "execution_count": 104,
   "id": "f88a8dcf",
   "metadata": {},
   "outputs": [
    {
     "name": "stdout",
     "output_type": "stream",
     "text": [
      "RandomForestClassifier\n",
      "RandomForestClassifier\n",
      "SVC\n",
      "SVC\n",
      "DecisionTreeClassifier\n",
      "DecisionTreeClassifier\n"
     ]
    }
   ],
   "source": [
    "res = []\n",
    "for id_dataset, id_model, params in tuning_winners:\n",
    "    clf, _ = sklearn_models[id_model]\n",
    "    clf.set_params(**params)\n",
    "    print(clf.__class__.__name__)\n",
    "    model = Model(clf, datasets[id_dataset])\n",
    "    summary = model.pipeline(split_list, test_set)\n",
    "    buffer = model.describe_model()\n",
    "    buffer['summary'] = summary\n",
    "    res.append(buffer)"
   ]
  },
  {
   "cell_type": "code",
   "execution_count": 110,
   "id": "629efc6d",
   "metadata": {},
   "outputs": [],
   "source": [
    "torch.save(res, 'data/baseline_results.pt')"
   ]
  },
  {
   "cell_type": "markdown",
   "id": "f6dce62c",
   "metadata": {},
   "source": [
    "---"
   ]
  },
  {
   "cell_type": "code",
   "execution_count": 141,
   "id": "b055e9cb",
   "metadata": {},
   "outputs": [],
   "source": [
    "ms = ['val.1.f1-score', 'val.0.recall', 'val.1.auc', 'test.1.f1-score', 'test.0.recall', 'test.1.auc']\n",
    "df = []\n",
    "for dic in res:\n",
    "    df.append({\n",
    "        'model': dic['model_name'],\n",
    "        'features': dic['data_feature_names'],\n",
    "    })\n",
    "    for m in ms:\n",
    "        df[-1].update({\n",
    "            m + '.mean': dic['summary'].loc[m, 'mean'] for m in ms\n",
    "        })\n",
    "        df[-1].update({\n",
    "            m + '.std': dic['summary'].loc[m, 'std'] for m in ms\n",
    "        })\n",
    "        \n",
    "df_plot = pd.DataFrame(df)"
   ]
  },
  {
   "cell_type": "code",
   "execution_count": 142,
   "id": "bd31ab7a",
   "metadata": {},
   "outputs": [
    {
     "data": {
      "text/html": [
       "<div>\n",
       "<style scoped>\n",
       "    .dataframe tbody tr th:only-of-type {\n",
       "        vertical-align: middle;\n",
       "    }\n",
       "\n",
       "    .dataframe tbody tr th {\n",
       "        vertical-align: top;\n",
       "    }\n",
       "\n",
       "    .dataframe thead th {\n",
       "        text-align: right;\n",
       "    }\n",
       "</style>\n",
       "<table border=\"1\" class=\"dataframe\">\n",
       "  <thead>\n",
       "    <tr style=\"text-align: right;\">\n",
       "      <th></th>\n",
       "      <th>model</th>\n",
       "      <th>features</th>\n",
       "      <th>val.1.f1-score.mean</th>\n",
       "      <th>val.0.recall.mean</th>\n",
       "      <th>val.1.auc.mean</th>\n",
       "      <th>test.1.f1-score.mean</th>\n",
       "      <th>test.0.recall.mean</th>\n",
       "      <th>test.1.auc.mean</th>\n",
       "      <th>val.1.f1-score.std</th>\n",
       "      <th>val.0.recall.std</th>\n",
       "      <th>val.1.auc.std</th>\n",
       "      <th>test.1.f1-score.std</th>\n",
       "      <th>test.0.recall.std</th>\n",
       "      <th>test.1.auc.std</th>\n",
       "    </tr>\n",
       "  </thead>\n",
       "  <tbody>\n",
       "    <tr>\n",
       "      <th>0</th>\n",
       "      <td>RandomForestClassifier</td>\n",
       "      <td>[artery_0, artery_1, artery_2]</td>\n",
       "      <td>0.500585</td>\n",
       "      <td>0.644455</td>\n",
       "      <td>0.529129</td>\n",
       "      <td>0.309091</td>\n",
       "      <td>0.418182</td>\n",
       "      <td>0.361364</td>\n",
       "      <td>0.127101</td>\n",
       "      <td>0.229141</td>\n",
       "      <td>0.095455</td>\n",
       "      <td>0.132131</td>\n",
       "      <td>0.081312</td>\n",
       "      <td>0.049793</td>\n",
       "    </tr>\n",
       "    <tr>\n",
       "      <th>1</th>\n",
       "      <td>RandomForestClassifier</td>\n",
       "      <td>[artery_0, artery_1, artery_2, tsvi]</td>\n",
       "      <td>0.700002</td>\n",
       "      <td>0.593190</td>\n",
       "      <td>0.766401</td>\n",
       "      <td>0.630409</td>\n",
       "      <td>0.581818</td>\n",
       "      <td>0.560227</td>\n",
       "      <td>0.040416</td>\n",
       "      <td>0.093284</td>\n",
       "      <td>0.086505</td>\n",
       "      <td>0.045373</td>\n",
       "      <td>0.049793</td>\n",
       "      <td>0.027426</td>\n",
       "    </tr>\n",
       "    <tr>\n",
       "      <th>2</th>\n",
       "      <td>SVC</td>\n",
       "      <td>[artery_0, artery_1, artery_2, x^TLx]</td>\n",
       "      <td>0.558365</td>\n",
       "      <td>0.672926</td>\n",
       "      <td>0.690011</td>\n",
       "      <td>0.422222</td>\n",
       "      <td>0.563636</td>\n",
       "      <td>0.577273</td>\n",
       "      <td>0.142941</td>\n",
       "      <td>0.139885</td>\n",
       "      <td>0.113932</td>\n",
       "      <td>0.177213</td>\n",
       "      <td>0.162623</td>\n",
       "      <td>0.085189</td>\n",
       "    </tr>\n",
       "    <tr>\n",
       "      <th>3</th>\n",
       "      <td>SVC</td>\n",
       "      <td>[artery_0, artery_1, artery_2, x^TLx, x^TM1x, ...</td>\n",
       "      <td>0.581616</td>\n",
       "      <td>0.495962</td>\n",
       "      <td>0.641928</td>\n",
       "      <td>0.592250</td>\n",
       "      <td>0.509091</td>\n",
       "      <td>0.679545</td>\n",
       "      <td>0.054765</td>\n",
       "      <td>0.165152</td>\n",
       "      <td>0.106970</td>\n",
       "      <td>0.029080</td>\n",
       "      <td>0.237062</td>\n",
       "      <td>0.152755</td>\n",
       "    </tr>\n",
       "    <tr>\n",
       "      <th>4</th>\n",
       "      <td>DecisionTreeClassifier</td>\n",
       "      <td>[artery_0, artery_1, artery_2, tsvi, x^TLx]</td>\n",
       "      <td>0.696175</td>\n",
       "      <td>0.536844</td>\n",
       "      <td>0.739449</td>\n",
       "      <td>0.613233</td>\n",
       "      <td>0.490909</td>\n",
       "      <td>0.600000</td>\n",
       "      <td>0.037544</td>\n",
       "      <td>0.172123</td>\n",
       "      <td>0.058413</td>\n",
       "      <td>0.027076</td>\n",
       "      <td>0.081312</td>\n",
       "      <td>0.139673</td>\n",
       "    </tr>\n",
       "    <tr>\n",
       "      <th>5</th>\n",
       "      <td>DecisionTreeClassifier</td>\n",
       "      <td>[artery_0, artery_1, artery_2, tsvi, x^TLx, x^...</td>\n",
       "      <td>0.685688</td>\n",
       "      <td>0.549135</td>\n",
       "      <td>0.688289</td>\n",
       "      <td>0.601203</td>\n",
       "      <td>0.454545</td>\n",
       "      <td>0.626136</td>\n",
       "      <td>0.048115</td>\n",
       "      <td>0.131738</td>\n",
       "      <td>0.097917</td>\n",
       "      <td>0.030083</td>\n",
       "      <td>0.090909</td>\n",
       "      <td>0.130274</td>\n",
       "    </tr>\n",
       "  </tbody>\n",
       "</table>\n",
       "</div>"
      ],
      "text/plain": [
       "                    model                                           features  \\\n",
       "0  RandomForestClassifier                     [artery_0, artery_1, artery_2]   \n",
       "1  RandomForestClassifier               [artery_0, artery_1, artery_2, tsvi]   \n",
       "2                     SVC              [artery_0, artery_1, artery_2, x^TLx]   \n",
       "3                     SVC  [artery_0, artery_1, artery_2, x^TLx, x^TM1x, ...   \n",
       "4  DecisionTreeClassifier        [artery_0, artery_1, artery_2, tsvi, x^TLx]   \n",
       "5  DecisionTreeClassifier  [artery_0, artery_1, artery_2, tsvi, x^TLx, x^...   \n",
       "\n",
       "   val.1.f1-score.mean  val.0.recall.mean  val.1.auc.mean  \\\n",
       "0             0.500585           0.644455        0.529129   \n",
       "1             0.700002           0.593190        0.766401   \n",
       "2             0.558365           0.672926        0.690011   \n",
       "3             0.581616           0.495962        0.641928   \n",
       "4             0.696175           0.536844        0.739449   \n",
       "5             0.685688           0.549135        0.688289   \n",
       "\n",
       "   test.1.f1-score.mean  test.0.recall.mean  test.1.auc.mean  \\\n",
       "0              0.309091            0.418182         0.361364   \n",
       "1              0.630409            0.581818         0.560227   \n",
       "2              0.422222            0.563636         0.577273   \n",
       "3              0.592250            0.509091         0.679545   \n",
       "4              0.613233            0.490909         0.600000   \n",
       "5              0.601203            0.454545         0.626136   \n",
       "\n",
       "   val.1.f1-score.std  val.0.recall.std  val.1.auc.std  test.1.f1-score.std  \\\n",
       "0            0.127101          0.229141       0.095455             0.132131   \n",
       "1            0.040416          0.093284       0.086505             0.045373   \n",
       "2            0.142941          0.139885       0.113932             0.177213   \n",
       "3            0.054765          0.165152       0.106970             0.029080   \n",
       "4            0.037544          0.172123       0.058413             0.027076   \n",
       "5            0.048115          0.131738       0.097917             0.030083   \n",
       "\n",
       "   test.0.recall.std  test.1.auc.std  \n",
       "0           0.081312        0.049793  \n",
       "1           0.049793        0.027426  \n",
       "2           0.162623        0.085189  \n",
       "3           0.237062        0.152755  \n",
       "4           0.081312        0.139673  \n",
       "5           0.090909        0.130274  "
      ]
     },
     "execution_count": 142,
     "metadata": {},
     "output_type": "execute_result"
    }
   ],
   "source": [
    "df_plot"
   ]
  },
  {
   "cell_type": "code",
   "execution_count": 143,
   "id": "8dabe6af",
   "metadata": {},
   "outputs": [
    {
     "data": {
      "image/png": "[encoded data removed]",
      "text/plain": [
       "<Figure size 1116x576 with 3 Axes>"
      ]
     },
     "metadata": {},
     "output_type": "display_data"
    }
   ],
   "source": [
    "ms = ['val.1.f1-score', 'val.0.recall', 'val.1.auc']\n",
    "\n",
    "_, ax = plt.subplots(1, len(ms), figsize=(len(ms) * 5 + 0.5, 8))\n",
    "colors = sns.color_palette('deep', n_colors=df_plot.shape[0])\n",
    "for a, m in zip(ax, ms):\n",
    "    l = a.barh(y=df_plot.index, width=df_plot[(m+'.mean')], xerr=df_plot[(m+'.std')], alpha=0.6, color=colors)\n",
    "    a.set_xlabel(m)\n",
    "    \n",
    "for a in ax[1:]:\n",
    "    a.set_yticks([])\n",
    "ax[0].set_xlabel('Validation F1 score')\n",
    "ax[1].set_xlabel('Validation specificity')\n",
    "ax[2].set_xlabel('Validation ROC AUC')\n",
    "plt.tight_layout()"
   ]
  },
  {
   "cell_type": "code",
   "execution_count": 144,
   "id": "489e394a",
   "metadata": {},
   "outputs": [
    {
     "data": {
      "image/png": "[encoded data removed]",
      "text/plain": [
       "<Figure size 1116x576 with 3 Axes>"
      ]
     },
     "metadata": {},
     "output_type": "display_data"
    }
   ],
   "source": [
    "ms = ['test.1.f1-score', 'test.0.recall', 'test.1.auc']\n",
    "\n",
    "_, ax = plt.subplots(1, len(ms), figsize=(len(ms) * 5 + 0.5, 8))\n",
    "colors = sns.color_palette('deep', n_colors=df_plot.shape[0])\n",
    "for a, m in zip(ax, ms):\n",
    "    l = a.barh(y=df_plot.index, width=df_plot[(m+'.mean')], xerr=df_plot[(m+'.std')], alpha=0.6, color=colors)\n",
    "    a.set_xlabel(m)\n",
    "    \n",
    "for a in ax[1:]:\n",
    "    a.set_yticks([])\n",
    "ax[0].set_xlabel('Test F1 score')\n",
    "ax[1].set_xlabel('Test specificity')\n",
    "ax[2].set_xlabel('Test ROC AUC')\n",
    "plt.tight_layout()"
   ]
  },
  {
   "cell_type": "code",
   "execution_count": 138,
   "id": "e7d8dff0",
   "metadata": {},
   "outputs": [
    {
     "data": {
      "image/png": "[encoded data removed]",
      "text/plain": [
       "<Figure size 1116x576 with 3 Axes>"
      ]
     },
     "metadata": {},
     "output_type": "display_data"
    }
   ],
   "source": [
    "\n",
    "\n",
    "_, ax = plt.subplots(1, len(ms), figsize=(len(ms) * 5 + 0.5, 8))\n",
    "colors = sns.color_palette('deep', n_colors=df_plot.shape[0])\n",
    "for a, m in zip(ax, ms):\n",
    "    l = a.barh(y=df_plot.index, width=df_plot[(m+'.mean')], xerr=df_plot[(m+'.std')], alpha=0.6, color=colors)\n",
    "    a.set_xlabel(m)\n",
    "    \n",
    "for a in ax[1:]:\n",
    "    a.set_yticks([])\n",
    "ax[0].set_xlabel('Validation F1 score')\n",
    "ax[1].set_xlabel('Validation specificity')\n",
    "ax[2].set_xlabel('Validation ROC AUC')\n",
    "plt.tight_layout()"
   ]
  },
  {
   "cell_type": "code",
   "execution_count": 111,
   "id": "002ed279",
   "metadata": {},
   "outputs": [
    {
     "data": {
      "text/plain": [
       "[{'model_name': 'RandomForestClassifier',\n",
       "  'model_class_weight': 'balanced',\n",
       "  'model_max_depth': 2,\n",
       "  'model_min_samples_leaf': 10,\n",
       "  'data_tsvi': True,\n",
       "  'data_node_feat': False,\n",
       "  'data_graph_feat': True,\n",
       "  'data_feature_names': ['artery_0', 'artery_1', 'artery_2'],\n",
       "  'summary':                        mean       std\n",
       "  train.1.auc        0.615103  0.026863\n",
       "  val.1.auc          0.529129  0.095455\n",
       "  test.1.auc         0.361364  0.049793\n",
       "  train.accuracy     0.607976  0.016932\n",
       "  train.0.precision  0.662550  0.042182\n",
       "  train.0.recall     0.667253  0.112620\n",
       "  train.0.f1-score   0.657386  0.049682\n",
       "  train.1.precision  0.543617  0.027759\n",
       "  train.1.recall     0.527223  0.140781\n",
       "  train.1.f1-score   0.527695  0.059102\n",
       "  val.accuracy       0.574373  0.154323\n",
       "  val.0.precision    0.607226  0.133510\n",
       "  val.0.recall       0.644455  0.229141\n",
       "  val.0.f1-score     0.620621  0.184352\n",
       "  val.1.precision    0.532125  0.174230\n",
       "  val.1.recall       0.483810  0.093956\n",
       "  val.1.f1-score     0.500585  0.127101\n",
       "  test.accuracy      0.389474  0.047075\n",
       "  test.0.precision   0.483636  0.065049\n",
       "  test.0.recall      0.418182  0.081312\n",
       "  test.0.f1-score    0.438636  0.035574\n",
       "  test.1.precision   0.285714  0.079860\n",
       "  test.1.recall      0.350000  0.223607\n",
       "  test.1.f1-score    0.309091  0.132131},\n",
       " {'model_name': 'RandomForestClassifier',\n",
       "  'model_class_weight': 'balanced',\n",
       "  'model_max_depth': 2,\n",
       "  'model_min_samples_leaf': 10,\n",
       "  'data_tsvi': False,\n",
       "  'data_node_feat': False,\n",
       "  'data_graph_feat': True,\n",
       "  'data_feature_names': ['artery_0', 'artery_1', 'artery_2', 'tsvi'],\n",
       "  'summary':                        mean       std\n",
       "  train.1.auc        0.835904  0.018246\n",
       "  val.1.auc          0.766401  0.086505\n",
       "  test.1.auc         0.560227  0.027426\n",
       "  train.accuracy     0.748659  0.017512\n",
       "  train.0.precision  0.878404  0.012409\n",
       "  train.0.recall     0.652348  0.027521\n",
       "  train.0.f1-score   0.748469  0.020703\n",
       "  train.1.precision  0.652627  0.019718\n",
       "  train.1.recall     0.878524  0.011583\n",
       "  train.1.f1-score   0.748772  0.014484\n",
       "  val.accuracy       0.698471  0.024828\n",
       "  val.0.precision    0.846814  0.089595\n",
       "  val.0.recall       0.593190  0.093284\n",
       "  val.0.f1-score     0.689465  0.048188\n",
       "  val.1.precision    0.606980  0.023810\n",
       "  val.1.recall       0.833333  0.107750\n",
       "  val.1.f1-score     0.700002  0.040416\n",
       "  test.accuracy      0.642105  0.044035\n",
       "  test.0.precision   0.744444  0.045644\n",
       "  test.0.recall      0.581818  0.049793\n",
       "  test.0.f1-score    0.652632  0.045122\n",
       "  test.1.precision   0.558182  0.042446\n",
       "  test.1.recall      0.725000  0.055902\n",
       "  test.1.f1-score    0.630409  0.045373},\n",
       " {'model_name': 'SVC',\n",
       "  'model_C': 0.6951927961775606,\n",
       "  'model_class_weight': 'balanced',\n",
       "  'model_kernel': 'linear',\n",
       "  'model_probability': True,\n",
       "  'data_tsvi': True,\n",
       "  'data_node_feat': False,\n",
       "  'data_graph_feat': False,\n",
       "  'data_feature_names': ['artery_0', 'artery_1', 'artery_2', 'x^TLx'],\n",
       "  'summary':                        mean       std\n",
       "  train.1.auc        0.726500  0.023388\n",
       "  val.1.auc          0.690011  0.113932\n",
       "  test.1.auc         0.577273  0.085189\n",
       "  train.accuracy     0.633369  0.032963\n",
       "  train.0.precision  0.687835  0.031723\n",
       "  train.0.recall     0.662806  0.031638\n",
       "  train.0.f1-score   0.674825  0.027786\n",
       "  train.1.precision  0.566384  0.038346\n",
       "  train.1.recall     0.593769  0.052711\n",
       "  train.1.f1-score   0.579376  0.042675\n",
       "  val.accuracy       0.623709  0.126345\n",
       "  val.0.precision    0.670335  0.097598\n",
       "  val.0.recall       0.672926  0.139885\n",
       "  val.0.f1-score     0.670241  0.116218\n",
       "  val.1.precision    0.565210  0.159802\n",
       "  val.1.recall       0.556190  0.135250\n",
       "  val.1.f1-score     0.558365  0.142941\n",
       "  test.accuracy      0.505263  0.156130\n",
       "  test.0.precision   0.570202  0.126167\n",
       "  test.0.recall      0.563636  0.162623\n",
       "  test.0.f1-score    0.565613  0.142364\n",
       "  test.1.precision   0.422857  0.194399\n",
       "  test.1.recall      0.425000  0.167705\n",
       "  test.1.f1-score    0.422222  0.177213},\n",
       " {'model_name': 'SVC',\n",
       "  'model_C': 1.438449888287663,\n",
       "  'model_class_weight': 'balanced',\n",
       "  'model_kernel': 'poly',\n",
       "  'model_probability': True,\n",
       "  'data_tsvi': True,\n",
       "  'data_node_feat': False,\n",
       "  'data_graph_feat': False,\n",
       "  'data_feature_names': ['artery_0',\n",
       "   'artery_1',\n",
       "   'artery_2',\n",
       "   'x^TLx',\n",
       "   'x^TM1x',\n",
       "   'x^TM2x',\n",
       "   'x^TM3x',\n",
       "   'x^TM4x',\n",
       "   'x^TM5x',\n",
       "   'x^TM6x',\n",
       "   'x^TM7x',\n",
       "   'x^TM8x',\n",
       "   'x^TM9x',\n",
       "   'x^TM10x'],\n",
       "  'summary':                        mean       std\n",
       "  train.1.auc        0.729763  0.025344\n",
       "  val.1.auc          0.641928  0.106970\n",
       "  test.1.auc         0.679545  0.152755\n",
       "  train.accuracy     0.656805  0.022712\n",
       "  train.0.precision  0.787435  0.054725\n",
       "  train.0.recall     0.566314  0.132099\n",
       "  train.0.f1-score   0.648237  0.059598\n",
       "  train.1.precision  0.579745  0.048661\n",
       "  train.1.recall     0.777132  0.131011\n",
       "  train.1.f1-score   0.655626  0.031540\n",
       "  val.accuracy       0.580751  0.047911\n",
       "  val.0.precision    0.698478  0.055663\n",
       "  val.0.recall       0.495962  0.165152\n",
       "  val.0.f1-score     0.565540  0.083532\n",
       "  val.1.precision    0.517668  0.075076\n",
       "  val.1.recall       0.697143  0.150682\n",
       "  val.1.f1-score     0.581616  0.054765\n",
       "  test.accuracy      0.589474  0.094150\n",
       "  test.0.precision   0.692857  0.038021\n",
       "  test.0.recall      0.509091  0.237062\n",
       "  test.0.f1-score    0.568669  0.146911\n",
       "  test.1.precision   0.546014  0.146558\n",
       "  test.1.recall      0.700000  0.111803\n",
       "  test.1.f1-score    0.592250  0.029080},\n",
       " {'model_name': 'DecisionTreeClassifier',\n",
       "  'model_class_weight': 'balanced',\n",
       "  'model_max_depth': 2,\n",
       "  'model_min_samples_leaf': 5,\n",
       "  'data_tsvi': False,\n",
       "  'data_node_feat': False,\n",
       "  'data_graph_feat': False,\n",
       "  'data_feature_names': ['artery_0', 'artery_1', 'artery_2', 'tsvi', 'x^TLx'],\n",
       "  'summary':                        mean       std\n",
       "  train.1.auc        0.815716  0.022799\n",
       "  val.1.auc          0.739449  0.058413\n",
       "  test.1.auc         0.600000  0.139673\n",
       "  train.accuracy     0.736872  0.023727\n",
       "  train.0.precision  0.900652  0.033547\n",
       "  train.0.recall     0.611707  0.062951\n",
       "  train.0.f1-score   0.725964  0.036904\n",
       "  train.1.precision  0.635785  0.032478\n",
       "  train.1.recall     0.906292  0.039835\n",
       "  train.1.f1-score   0.746127  0.014127\n",
       "  val.accuracy       0.679117  0.056964\n",
       "  val.0.precision    0.868219  0.088965\n",
       "  val.0.recall       0.536844  0.172123\n",
       "  val.0.f1-score     0.641831  0.128379\n",
       "  val.1.precision    0.590673  0.048823\n",
       "  val.1.recall       0.860952  0.111595\n",
       "  val.1.f1-score     0.696175  0.037544\n",
       "  test.accuracy      0.600000  0.047075\n",
       "  test.0.precision   0.726190  0.036693\n",
       "  test.0.recall      0.490909  0.081312\n",
       "  test.0.f1-score    0.584176  0.071523\n",
       "  test.1.precision   0.519580  0.037950\n",
       "  test.1.recall      0.750000  0.000000\n",
       "  test.1.f1-score    0.613233  0.027076},\n",
       " {'model_name': 'DecisionTreeClassifier',\n",
       "  'model_class_weight': 'balanced',\n",
       "  'model_max_depth': 3,\n",
       "  'model_min_samples_leaf': 2,\n",
       "  'data_tsvi': False,\n",
       "  'data_node_feat': False,\n",
       "  'data_graph_feat': False,\n",
       "  'data_feature_names': ['artery_0',\n",
       "   'artery_1',\n",
       "   'artery_2',\n",
       "   'tsvi',\n",
       "   'x^TLx',\n",
       "   'x^TM1x',\n",
       "   'x^TM2x',\n",
       "   'x^TM3x',\n",
       "   'x^TM4x',\n",
       "   'x^TM5x',\n",
       "   'x^TM6x',\n",
       "   'x^TM7x',\n",
       "   'x^TM8x',\n",
       "   'x^TM9x',\n",
       "   'x^TM10x'],\n",
       "  'summary':                        mean       std\n",
       "  train.1.auc        0.860201  0.035328\n",
       "  val.1.auc          0.688289  0.097917\n",
       "  test.1.auc         0.626136  0.130274\n",
       "  train.accuracy     0.769385  0.030783\n",
       "  train.0.precision  0.936351  0.020636\n",
       "  train.0.recall     0.642167  0.053217\n",
       "  train.0.f1-score   0.760782  0.038019\n",
       "  train.1.precision  0.662554  0.035535\n",
       "  train.1.recall     0.941077  0.019396\n",
       "  train.1.f1-score   0.777114  0.024665\n",
       "  val.accuracy       0.673234  0.062364\n",
       "  val.0.precision    0.822584  0.072711\n",
       "  val.0.recall       0.549135  0.131738\n",
       "  val.0.f1-score     0.650151  0.107264\n",
       "  val.1.precision    0.585071  0.044447\n",
       "  val.1.recall       0.834286  0.092912\n",
       "  val.1.f1-score     0.685688  0.048115\n",
       "  test.accuracy      0.578947  0.052632\n",
       "  test.0.precision   0.709524  0.041752\n",
       "  test.0.recall      0.454545  0.090909\n",
       "  test.0.f1-score    0.551978  0.080520\n",
       "  test.1.precision   0.502797  0.041987\n",
       "  test.1.recall      0.750000  0.000000\n",
       "  test.1.f1-score    0.601203  0.030083}]"
      ]
     },
     "execution_count": 111,
     "metadata": {},
     "output_type": "execute_result"
    }
   ],
   "source": [
    "res"
   ]
  }
 ],
 "metadata": {
  "kernelspec": {
   "display_name": "Python [conda env:gnn]",
   "language": "python",
   "name": "conda-env-gnn-py"
  },
  "language_info": {
   "codemirror_mode": {
    "name": "ipython",
    "version": 3
   },
   "file_extension": ".py",
   "mimetype": "text/x-python",
   "name": "python",
   "nbconvert_exporter": "python",
   "pygments_lexer": "ipython3",
   "version": "3.7.11"
  }
 },
 "nbformat": 4,
 "nbformat_minor": 5
}
