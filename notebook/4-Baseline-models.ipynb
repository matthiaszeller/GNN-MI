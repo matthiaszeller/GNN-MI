{
 "cells": [
  {
   "cell_type": "code",
   "execution_count": 3,
   "id": "f166808e",
   "metadata": {
    "collapsed": false,
    "jupyter": {
     "outputs_hidden": false
    },
    "pycharm": {
     "name": "#%%\n"
    }
   },
   "outputs": [],
   "source": [
    "%load_ext autoreload\n",
    "%autoreload 2"
   ]
  },
  {
   "cell_type": "code",
   "execution_count": 4,
   "id": "ad6f174a",
   "metadata": {
    "tags": []
   },
   "outputs": [],
   "source": [
    "import numpy as np\n",
    "import matplotlib.pyplot as plt\n",
    "import seaborn as sns\n",
    "import pandas as pd\n",
    "\n",
    "from pathlib import Path"
   ]
  },
  {
   "cell_type": "code",
   "execution_count": 5,
   "id": "6ad90704",
   "metadata": {},
   "outputs": [],
   "source": [
    "import torch\n",
    "from torch_geometric.utils import to_scipy_sparse_matrix"
   ]
  },
  {
   "cell_type": "code",
   "execution_count": 6,
   "id": "0e48a8cb",
   "metadata": {},
   "outputs": [],
   "source": [
    "%run setup_notebooks.py"
   ]
  },
  {
   "cell_type": "code",
   "execution_count": 7,
   "id": "985435e7",
   "metadata": {
    "collapsed": false,
    "jupyter": {
     "outputs_hidden": false
    },
    "pycharm": {
     "name": "#%%\n"
    }
   },
   "outputs": [],
   "source": [
    "from src import setup"
   ]
  },
  {
   "cell_type": "code",
   "execution_count": 8,
   "id": "db7f898f",
   "metadata": {},
   "outputs": [],
   "source": [
    "import logging\n",
    "logging.getLogger().setLevel(logging.INFO)"
   ]
  },
  {
   "cell_type": "markdown",
   "id": "ebe7384c",
   "metadata": {},
   "source": [
    "# Load"
   ]
  },
  {
   "cell_type": "code",
   "execution_count": 7,
   "id": "5fde3153",
   "metadata": {},
   "outputs": [],
   "source": [
    "from datasets import split_data, PatientDataset\n",
    "from create_data import read_tsvi"
   ]
  },
  {
   "cell_type": "code",
   "execution_count": 10,
   "id": "2167ea14",
   "metadata": {},
   "outputs": [
    {
     "name": "stderr",
     "output_type": "stream",
     "text": [
      "2022-06-01 16:39:35,213 [setup] [INFO] get_data_path(): using user-defined data path\n",
      "2022-06-01 16:39:35,214 [setup] [INFO] get_data_path(): using user-defined data path\n",
      "2022-06-01 16:39:39,518 [datasets] [INFO] split_data (test_set, split_list) = (PatientDataset(19, type=test, in_memory=True), [(PatientDataset(133, type=train, in_memory=True), PatientDataset(36, type=val, in_memory=True)), (PatientDataset(135, type=train, in_memory=True), PatientDataset(34, type=val, in_memory=True)), (PatientDataset(135, type=train, in_memory=True), PatientDataset(34, type=val, in_memory=True)), (PatientDataset(138, type=train, in_memory=True), PatientDataset(31, type=val, in_memory=True)), (PatientDataset(135, type=train, in_memory=True), PatientDataset(34, type=val, in_memory=True))])\n",
      "2022-06-01 16:39:39,518 [datasets] [INFO] sanity checking data splits\n",
      "2022-06-01 16:39:39,540 [setup] [INFO] get_data_path(): using user-defined data path\n",
      "2022-06-01 16:39:39,541 [create_data] [INFO] parsing tsvi ...\n"
     ]
    }
   ],
   "source": [
    "config = {\n",
    "    'dataset.name': 'CoordToCnc_perimeter',\n",
    "    'dataset.num_node_features': 1,\n",
    "    'cv.seed': 0,\n",
    "    'cv.k_fold': 5,\n",
    "    'dataset.in_memory': True\n",
    "}\n",
    "\n",
    "test_set, split_list = split_data(path=setup.get_dataset_path(config['dataset.name']),\n",
    "                                  num_node_features=config['dataset.num_node_features'],\n",
    "                                  seed=config['cv.seed'],\n",
    "                                  cv=True,\n",
    "                                  k_cross=config['cv.k_fold'],\n",
    "                                  # Args for PatientDataset\n",
    "                                  in_memory=config['dataset.in_memory'])\n",
    "\n",
    "# Load tsvi\n",
    "path_data_in, _ = setup.get_data_paths()\n",
    "path_labels = path_data_in.joinpath('CFD/labels/WSSdescriptors_AvgValues.xlsx')\n",
    "data_tsvi = read_tsvi(path_labels)"
   ]
  },
  {
   "cell_type": "markdown",
   "id": "1edda8e0",
   "metadata": {},
   "source": [
    "## Quadratic forms"
   ]
  },
  {
   "cell_type": "code",
   "execution_count": 11,
   "id": "0074718b",
   "metadata": {},
   "outputs": [
    {
     "name": "stderr",
     "output_type": "stream",
     "text": [
      "2022-06-01 16:39:42,515 [setup] [INFO] get_data_path(): using user-defined data path\n"
     ]
    },
    {
     "name": "stdout",
     "output_type": "stream",
     "text": [
      "dict_keys(['input_dset', 'taus', 'features'])\n"
     ]
    }
   ],
   "source": [
    "path = setup.get_dataset_path('graph_features')\n",
    "data_quadratic = torch.load(path.joinpath('perimeters.pt'))\n",
    "print(data_quadratic.keys())\n",
    "data_quadratic = data_quadratic['features']"
   ]
  },
  {
   "cell_type": "code",
   "execution_count": 12,
   "id": "792d318f",
   "metadata": {},
   "outputs": [],
   "source": [
    "data_quadratic_simple = {\n",
    "    k: v[0] for k, v in data_quadratic.items()\n",
    "}"
   ]
  },
  {
   "cell_type": "markdown",
   "id": "086029ce",
   "metadata": {},
   "source": [
    "# Models"
   ]
  },
  {
   "cell_type": "code",
   "execution_count": 13,
   "id": "e2c88cbc",
   "metadata": {},
   "outputs": [],
   "source": [
    "from sklearn.linear_model import LogisticRegression\n",
    "from sklearn.svm import SVC\n",
    "from sklearn.tree import DecisionTreeClassifier\n",
    "from sklearn.ensemble import RandomForestClassifier"
   ]
  },
  {
   "cell_type": "code",
   "execution_count": 14,
   "id": "cdbdf11b",
   "metadata": {},
   "outputs": [],
   "source": [
    "from baseline import Dataset, Model"
   ]
  },
  {
   "cell_type": "markdown",
   "id": "61a29975",
   "metadata": {},
   "source": [
    "## Toy Example"
   ]
  },
  {
   "cell_type": "code",
   "execution_count": 15,
   "id": "de898206",
   "metadata": {},
   "outputs": [],
   "source": [
    "dset_tsvi = Dataset(include_tsvi=data_tsvi)"
   ]
  },
  {
   "cell_type": "code",
   "execution_count": 16,
   "id": "934e5d1b",
   "metadata": {},
   "outputs": [
    {
     "data": {
      "text/html": [
       "<div>\n",
       "<style scoped>\n",
       "    .dataframe tbody tr th:only-of-type {\n",
       "        vertical-align: middle;\n",
       "    }\n",
       "\n",
       "    .dataframe tbody tr th {\n",
       "        vertical-align: top;\n",
       "    }\n",
       "\n",
       "    .dataframe thead th {\n",
       "        text-align: right;\n",
       "    }\n",
       "</style>\n",
       "<table border=\"1\" class=\"dataframe\">\n",
       "  <thead>\n",
       "    <tr style=\"text-align: right;\">\n",
       "      <th></th>\n",
       "      <th>train.1.auc</th>\n",
       "      <th>val.1.auc</th>\n",
       "      <th>test.1.auc</th>\n",
       "      <th>train.accuracy</th>\n",
       "      <th>train.0.precision</th>\n",
       "      <th>train.0.recall</th>\n",
       "      <th>train.0.f1-score</th>\n",
       "      <th>train.1.precision</th>\n",
       "      <th>train.1.recall</th>\n",
       "      <th>train.1.f1-score</th>\n",
       "      <th>...</th>\n",
       "      <th>val.1.precision</th>\n",
       "      <th>val.1.recall</th>\n",
       "      <th>val.1.f1-score</th>\n",
       "      <th>test.accuracy</th>\n",
       "      <th>test.0.precision</th>\n",
       "      <th>test.0.recall</th>\n",
       "      <th>test.0.f1-score</th>\n",
       "      <th>test.1.precision</th>\n",
       "      <th>test.1.recall</th>\n",
       "      <th>test.1.f1-score</th>\n",
       "    </tr>\n",
       "  </thead>\n",
       "  <tbody>\n",
       "    <tr>\n",
       "      <th>mean</th>\n",
       "      <td>0.790503</td>\n",
       "      <td>0.751577</td>\n",
       "      <td>0.547727</td>\n",
       "      <td>0.744259</td>\n",
       "      <td>0.773754</td>\n",
       "      <td>0.786063</td>\n",
       "      <td>0.779234</td>\n",
       "      <td>0.704981</td>\n",
       "      <td>0.687417</td>\n",
       "      <td>0.695062</td>\n",
       "      <td>...</td>\n",
       "      <td>0.651707</td>\n",
       "      <td>0.654286</td>\n",
       "      <td>0.648179</td>\n",
       "      <td>0.536842</td>\n",
       "      <td>0.593077</td>\n",
       "      <td>0.636364</td>\n",
       "      <td>0.612836</td>\n",
       "      <td>0.446032</td>\n",
       "      <td>0.400000</td>\n",
       "      <td>0.419832</td>\n",
       "    </tr>\n",
       "    <tr>\n",
       "      <th>std</th>\n",
       "      <td>0.025833</td>\n",
       "      <td>0.117007</td>\n",
       "      <td>0.039691</td>\n",
       "      <td>0.030155</td>\n",
       "      <td>0.036106</td>\n",
       "      <td>0.033919</td>\n",
       "      <td>0.024422</td>\n",
       "      <td>0.034655</td>\n",
       "      <td>0.066180</td>\n",
       "      <td>0.043213</td>\n",
       "      <td>...</td>\n",
       "      <td>0.100024</td>\n",
       "      <td>0.165835</td>\n",
       "      <td>0.122463</td>\n",
       "      <td>0.023538</td>\n",
       "      <td>0.014408</td>\n",
       "      <td>0.064282</td>\n",
       "      <td>0.034146</td>\n",
       "      <td>0.030942</td>\n",
       "      <td>0.055902</td>\n",
       "      <td>0.030954</td>\n",
       "    </tr>\n",
       "  </tbody>\n",
       "</table>\n",
       "<p>2 rows × 24 columns</p>\n",
       "</div>"
      ],
      "text/plain": [
       "      train.1.auc  val.1.auc  test.1.auc  train.accuracy  train.0.precision  \\\n",
       "mean     0.790503   0.751577    0.547727        0.744259           0.773754   \n",
       "std      0.025833   0.117007    0.039691        0.030155           0.036106   \n",
       "\n",
       "      train.0.recall  train.0.f1-score  train.1.precision  train.1.recall  \\\n",
       "mean        0.786063          0.779234           0.704981        0.687417   \n",
       "std         0.033919          0.024422           0.034655        0.066180   \n",
       "\n",
       "      train.1.f1-score  ...  val.1.precision  val.1.recall  val.1.f1-score  \\\n",
       "mean          0.695062  ...         0.651707      0.654286        0.648179   \n",
       "std           0.043213  ...         0.100024      0.165835        0.122463   \n",
       "\n",
       "      test.accuracy  test.0.precision  test.0.recall  test.0.f1-score  \\\n",
       "mean       0.536842          0.593077       0.636364         0.612836   \n",
       "std        0.023538          0.014408       0.064282         0.034146   \n",
       "\n",
       "      test.1.precision  test.1.recall  test.1.f1-score  \n",
       "mean          0.446032       0.400000         0.419832  \n",
       "std           0.030942       0.055902         0.030954  \n",
       "\n",
       "[2 rows x 24 columns]"
      ]
     },
     "execution_count": 16,
     "metadata": {},
     "output_type": "execute_result"
    }
   ],
   "source": [
    "logreg_tsvi = Model(LogisticRegression(class_weight='balanced'), dset_tsvi)\n",
    "logreg_tsvi_summary = logreg_tsvi.pipeline(split_list, test_set)\n",
    "logreg_tsvi_summary.T"
   ]
  },
  {
   "cell_type": "code",
   "execution_count": 17,
   "id": "7d901b93",
   "metadata": {},
   "outputs": [
    {
     "data": {
      "text/plain": [
       "{'model_name': 'LogisticRegression',\n",
       " 'model_class_weight': 'balanced',\n",
       " 'data_tsvi': False,\n",
       " 'data_node_feat': False,\n",
       " 'data_graph_feat': True,\n",
       " 'data_feature_names': ['artery_0', 'artery_1', 'artery_2', 'tsvi']}"
      ]
     },
     "execution_count": 17,
     "metadata": {},
     "output_type": "execute_result"
    }
   ],
   "source": [
    "logreg_tsvi.describe_model()"
   ]
  },
  {
   "cell_type": "markdown",
   "id": "d05d3cef",
   "metadata": {},
   "source": [
    "## Automate"
   ]
  },
  {
   "cell_type": "code",
   "execution_count": 18,
   "id": "fc3cb629",
   "metadata": {},
   "outputs": [],
   "source": [
    "quad_feat_names = ['x^TLx']\n",
    "quad_feat_names_full = quad_feat_names + [f'x{i+1}^TLx{i+1}' for i in range(next(iter(data_quadratic.values())).shape[0]-1)]\n",
    "\n",
    "datasets = [\n",
    "    # Only artery type\n",
    "    Dataset(),\n",
    "    # Artery type + Tsvi\n",
    "    Dataset(include_tsvi=data_tsvi),\n",
    "    # Quadratic form with Laplacian only\n",
    "    Dataset(additional_graph_features=data_quadratic_simple, additional_graph_feature_names=quad_feat_names),\n",
    "    # Quadratic form with diffusion\n",
    "    Dataset(additional_graph_features=data_quadratic, additional_graph_feature_names=quad_feat_names_full),\n",
    "    # Quadratic forms with tsvi\n",
    "    Dataset(include_tsvi=data_tsvi, additional_graph_features=data_quadratic_simple, additional_graph_feature_names=quad_feat_names),\n",
    "    Dataset(include_tsvi=data_tsvi, additional_graph_features=data_quadratic, additional_graph_feature_names=quad_feat_names_full),\n",
    "]"
   ]
  },
  {
   "cell_type": "code",
   "execution_count": 19,
   "id": "bde4c420",
   "metadata": {},
   "outputs": [],
   "source": [
    "# List of tuples:\n",
    "# (model, params)   - model is an instanciation of a sklearn model \n",
    "#                   - params is a dictionnary for grid search\n",
    "C_grid = np.logspace(-3, 3, 20)\n",
    "sklearn_models = [\n",
    "    (\n",
    "        LogisticRegression(class_weight='balanced'),\n",
    "        {'C': C_grid}\n",
    "    ),\n",
    "    (\n",
    "        SVC(class_weight='balanced', probability=True),\n",
    "        {'C': C_grid, 'kernel': ('linear', 'rbf', 'poly')}\n",
    "    ),\n",
    "    (\n",
    "        DecisionTreeClassifier(class_weight='balanced'),\n",
    "        {'min_samples_leaf': (2, 5, 10,), 'max_depth': (2, 3, 4, 5, 6, 10)}\n",
    "    ),\n",
    "    (\n",
    "        RandomForestClassifier(class_weight='balanced'),\n",
    "        {'max_depth': (2, 3, 4, 5, 6), 'min_samples_leaf': (2, 5, 10)}\n",
    "    )\n",
    "]"
   ]
  },
  {
   "cell_type": "markdown",
   "id": "0145cae3",
   "metadata": {},
   "source": [
    "### Hyperparameter tuning"
   ]
  },
  {
   "cell_type": "code",
   "execution_count": 37,
   "id": "c4ec13be",
   "metadata": {},
   "outputs": [
    {
     "name": "stdout",
     "output_type": "stream",
     "text": [
      "........................"
     ]
    }
   ],
   "source": [
    "results = []\n",
    "kfold = 5\n",
    "for i, dset in enumerate(datasets):\n",
    "    for j, (sklearn_model, grid) in enumerate(sklearn_models):\n",
    "        print('.', end='')\n",
    "        model = Model(sklearn_model, dset)\n",
    "        res = model.grid_search(split_list, grid, kfold=kfold)\n",
    "        \n",
    "        results.append({\n",
    "            'id_dataset': i,\n",
    "            'id_model': j,\n",
    "            'config': model.describe_model(),\n",
    "            'tuning': res\n",
    "        })"
   ]
  },
  {
   "cell_type": "code",
   "execution_count": 38,
   "id": "0515ec8e",
   "metadata": {},
   "outputs": [],
   "source": [
    "def get_best_model(tuning_results, dataset_id: int, verbose: bool = True):\n",
    "    samples = [e for e in tuning_results if e['id_dataset'] == dataset_id]\n",
    "    df_res = []\n",
    "    for e in samples:\n",
    "        sub = e['tuning'].copy()\n",
    "        sub['id_model'] = e['id_model']\n",
    "        sub['model_name'] = e['config']['model_name']\n",
    "        df_res.append(sub)\n",
    "    \n",
    "    df_res = pd.concat(df_res, ignore_index=True)\n",
    "    df_res['score'] = df_res.mean_test_score - df_res.std_test_score\n",
    "    df_res.sort_values('score', ascending=False, inplace=True, )\n",
    "    \n",
    "    if verbose:\n",
    "        nbest = 5\n",
    "        df_show = df_res.iloc[:nbest][['mean_test_score', 'std_test_score', 'model_name']]\n",
    "        print(f'top {nbest} results:\\n{df_show}')\n",
    "    \n",
    "    winner = df_res.iloc[0]\n",
    "    params = {\n",
    "        '_'.join(col.split('_')[1:]): winner[col]\n",
    "        for col in df_res.columns\n",
    "        if 'param_' in col and not pd.isna(winner[col])\n",
    "    }\n",
    "    \n",
    "    return winner.id_model, params"
   ]
  },
  {
   "cell_type": "code",
   "execution_count": 39,
   "id": "752033cd",
   "metadata": {},
   "outputs": [
    {
     "name": "stdout",
     "output_type": "stream",
     "text": [
      "top 5 results:\n",
      "     mean_test_score  std_test_score              model_name\n",
      "82          0.696794        0.034006  DecisionTreeClassifier\n",
      "80          0.696794        0.034006  DecisionTreeClassifier\n",
      "81          0.696794        0.034006  DecisionTreeClassifier\n",
      "112         0.697783        0.040943  RandomForestClassifier\n",
      "103         0.704842        0.053108  RandomForestClassifier\n"
     ]
    },
    {
     "data": {
      "text/plain": [
       "(2, {'max_depth': 2, 'min_samples_leaf': 10})"
      ]
     },
     "execution_count": 39,
     "metadata": {},
     "output_type": "execute_result"
    }
   ],
   "source": [
    "get_best_model(results, 1)"
   ]
  },
  {
   "cell_type": "code",
   "execution_count": 40,
   "id": "e392398a",
   "metadata": {},
   "outputs": [
    {
     "name": "stdout",
     "output_type": "stream",
     "text": [
      "top 5 results:\n",
      "     mean_test_score  std_test_score              model_name\n",
      "98          0.507347        0.096241  RandomForestClassifier\n",
      "107         0.507347        0.096241  RandomForestClassifier\n",
      "99          0.507347        0.096241  RandomForestClassifier\n",
      "101         0.507347        0.096241  RandomForestClassifier\n",
      "105         0.507347        0.096241  RandomForestClassifier\n",
      "top 5 results:\n",
      "     mean_test_score  std_test_score              model_name\n",
      "82          0.696794        0.034006  DecisionTreeClassifier\n",
      "80          0.696794        0.034006  DecisionTreeClassifier\n",
      "81          0.696794        0.034006  DecisionTreeClassifier\n",
      "112         0.697783        0.040943  RandomForestClassifier\n",
      "103         0.704842        0.053108  RandomForestClassifier\n",
      "top 5 results:\n",
      "     mean_test_score  std_test_score              model_name\n",
      "112         0.603806        0.072971  RandomForestClassifier\n",
      "103         0.603806        0.072971  RandomForestClassifier\n",
      "97          0.541831        0.030134  DecisionTreeClassifier\n",
      "94          0.541831        0.030134  DecisionTreeClassifier\n",
      "84          0.582583        0.071910  DecisionTreeClassifier\n",
      "top 5 results:\n",
      "    mean_test_score  std_test_score              model_name\n",
      "80         0.631785        0.054183  DecisionTreeClassifier\n",
      "45         0.602540        0.060843                     SVC\n",
      "83         0.582244        0.044106  DecisionTreeClassifier\n",
      "42         0.599131        0.063414                     SVC\n",
      "94         0.556485        0.022336  DecisionTreeClassifier\n",
      "top 5 results:\n",
      "     mean_test_score  std_test_score              model_name\n",
      "81          0.696794        0.034006  DecisionTreeClassifier\n",
      "82          0.696794        0.034006  DecisionTreeClassifier\n",
      "80          0.687762        0.049147  DecisionTreeClassifier\n",
      "109         0.663704        0.043231  RandomForestClassifier\n",
      "99          0.667156        0.048918  RandomForestClassifier\n",
      "top 5 results:\n",
      "     mean_test_score  std_test_score              model_name\n",
      "80          0.679903        0.018372  DecisionTreeClassifier\n",
      "81          0.679903        0.018372  DecisionTreeClassifier\n",
      "82          0.680127        0.022226  DecisionTreeClassifier\n",
      "103         0.672738        0.045824  RandomForestClassifier\n",
      "112         0.671729        0.048731  RandomForestClassifier\n"
     ]
    }
   ],
   "source": [
    "tuning_winners = [\n",
    "    (id_dataset, *get_best_model(results, id_dataset))\n",
    "    for id_dataset in range(len((datasets)))\n",
    "]"
   ]
  },
  {
   "cell_type": "code",
   "execution_count": 41,
   "id": "5c60a6b1",
   "metadata": {},
   "outputs": [
    {
     "data": {
      "text/plain": [
       "[(0, 3, {'max_depth': 2, 'min_samples_leaf': 2}),\n",
       " (1, 2, {'max_depth': 2, 'min_samples_leaf': 10}),\n",
       " (2, 3, {'max_depth': 6, 'min_samples_leaf': 10}),\n",
       " (3, 2, {'max_depth': 2, 'min_samples_leaf': 2}),\n",
       " (4, 2, {'max_depth': 2, 'min_samples_leaf': 5}),\n",
       " (5, 2, {'max_depth': 2, 'min_samples_leaf': 2})]"
      ]
     },
     "execution_count": 41,
     "metadata": {},
     "output_type": "execute_result"
    }
   ],
   "source": [
    "tuning_winners"
   ]
  },
  {
   "cell_type": "markdown",
   "id": "78a52d6d",
   "metadata": {},
   "source": [
    "### Refit and test"
   ]
  },
  {
   "cell_type": "code",
   "execution_count": 42,
   "id": "a412b257",
   "metadata": {},
   "outputs": [
    {
     "name": "stdout",
     "output_type": "stream",
     "text": [
      "RandomForestClassifier\n",
      "DecisionTreeClassifier\n",
      "RandomForestClassifier\n",
      "DecisionTreeClassifier\n",
      "DecisionTreeClassifier\n",
      "DecisionTreeClassifier\n"
     ]
    }
   ],
   "source": [
    "res = []\n",
    "for id_dataset, id_model, params in tuning_winners:\n",
    "    clf, _ = sklearn_models[id_model]\n",
    "    clf.set_params(**params)\n",
    "    print(clf.__class__.__name__)\n",
    "    model = Model(clf, datasets[id_dataset])\n",
    "    summary = model.pipeline(split_list, test_set)\n",
    "    buffer = model.describe_model()\n",
    "    buffer['summary'] = summary\n",
    "    res.append(buffer)"
   ]
  },
  {
   "cell_type": "code",
   "execution_count": 43,
   "id": "10492fc1",
   "metadata": {},
   "outputs": [],
   "source": [
    "torch.save(res, 'data/baseline_results.pt')"
   ]
  },
  {
   "cell_type": "markdown",
   "id": "69176154",
   "metadata": {},
   "source": [
    "---"
   ]
  },
  {
   "cell_type": "code",
   "execution_count": 9,
   "id": "39850aed",
   "metadata": {},
   "outputs": [],
   "source": [
    "res = torch.load('data/baseline_results.pt')"
   ]
  },
  {
   "cell_type": "code",
   "execution_count": 10,
   "id": "9f4e4b40",
   "metadata": {},
   "outputs": [],
   "source": [
    "ms = ['val.1.f1-score', 'val.0.recall', 'val.1.auc', 'test.1.f1-score', 'test.0.recall', 'test.1.auc']\n",
    "df = []\n",
    "for dic in res:\n",
    "    df.append({\n",
    "        'model': dic['model_name'],\n",
    "        'features': dic['data_feature_names'],\n",
    "    })\n",
    "    for m in ms:\n",
    "        df[-1].update({\n",
    "            m + '.mean': dic['summary'].loc[m, 'mean'] for m in ms\n",
    "        })\n",
    "        df[-1].update({\n",
    "            m + '.std': dic['summary'].loc[m, 'std'] for m in ms\n",
    "        })\n",
    "        \n",
    "df_plot = pd.DataFrame(df)"
   ]
  },
  {
   "cell_type": "code",
   "execution_count": 11,
   "id": "0d35cf9e",
   "metadata": {},
   "outputs": [
    {
     "data": {
      "text/html": [
       "<div>\n",
       "<style scoped>\n",
       "    .dataframe tbody tr th:only-of-type {\n",
       "        vertical-align: middle;\n",
       "    }\n",
       "\n",
       "    .dataframe tbody tr th {\n",
       "        vertical-align: top;\n",
       "    }\n",
       "\n",
       "    .dataframe thead th {\n",
       "        text-align: right;\n",
       "    }\n",
       "</style>\n",
       "<table border=\"1\" class=\"dataframe\">\n",
       "  <thead>\n",
       "    <tr style=\"text-align: right;\">\n",
       "      <th></th>\n",
       "      <th>model</th>\n",
       "      <th>features</th>\n",
       "      <th>val.1.f1-score.mean</th>\n",
       "      <th>val.0.recall.mean</th>\n",
       "      <th>val.1.auc.mean</th>\n",
       "      <th>test.1.f1-score.mean</th>\n",
       "      <th>test.0.recall.mean</th>\n",
       "      <th>test.1.auc.mean</th>\n",
       "      <th>val.1.f1-score.std</th>\n",
       "      <th>val.0.recall.std</th>\n",
       "      <th>val.1.auc.std</th>\n",
       "      <th>test.1.f1-score.std</th>\n",
       "      <th>test.0.recall.std</th>\n",
       "      <th>test.1.auc.std</th>\n",
       "    </tr>\n",
       "  </thead>\n",
       "  <tbody>\n",
       "    <tr>\n",
       "      <th>0</th>\n",
       "      <td>RandomForestClassifier</td>\n",
       "      <td>[artery_0, artery_1, artery_2]</td>\n",
       "      <td>0.500585</td>\n",
       "      <td>0.644455</td>\n",
       "      <td>0.529129</td>\n",
       "      <td>0.309091</td>\n",
       "      <td>0.418182</td>\n",
       "      <td>0.361364</td>\n",
       "      <td>0.127101</td>\n",
       "      <td>0.229141</td>\n",
       "      <td>0.095455</td>\n",
       "      <td>0.132131</td>\n",
       "      <td>0.081312</td>\n",
       "      <td>0.049793</td>\n",
       "    </tr>\n",
       "    <tr>\n",
       "      <th>1</th>\n",
       "      <td>DecisionTreeClassifier</td>\n",
       "      <td>[artery_0, artery_1, artery_2, tsvi]</td>\n",
       "      <td>0.696175</td>\n",
       "      <td>0.536844</td>\n",
       "      <td>0.747386</td>\n",
       "      <td>0.613233</td>\n",
       "      <td>0.490909</td>\n",
       "      <td>0.531818</td>\n",
       "      <td>0.037544</td>\n",
       "      <td>0.172123</td>\n",
       "      <td>0.062229</td>\n",
       "      <td>0.027076</td>\n",
       "      <td>0.081312</td>\n",
       "      <td>0.052936</td>\n",
       "    </tr>\n",
       "    <tr>\n",
       "      <th>2</th>\n",
       "      <td>RandomForestClassifier</td>\n",
       "      <td>[artery_0, artery_1, artery_2, x^TLx]</td>\n",
       "      <td>0.562697</td>\n",
       "      <td>0.561302</td>\n",
       "      <td>0.596413</td>\n",
       "      <td>0.619748</td>\n",
       "      <td>0.618182</td>\n",
       "      <td>0.697727</td>\n",
       "      <td>0.116223</td>\n",
       "      <td>0.129984</td>\n",
       "      <td>0.083456</td>\n",
       "      <td>0.104156</td>\n",
       "      <td>0.235312</td>\n",
       "      <td>0.078153</td>\n",
       "    </tr>\n",
       "    <tr>\n",
       "      <th>3</th>\n",
       "      <td>DecisionTreeClassifier</td>\n",
       "      <td>[artery_0, artery_1, artery_2, x^TLx, x1^TLx1,...</td>\n",
       "      <td>0.566891</td>\n",
       "      <td>0.513953</td>\n",
       "      <td>0.616992</td>\n",
       "      <td>0.661422</td>\n",
       "      <td>0.490909</td>\n",
       "      <td>0.761364</td>\n",
       "      <td>0.130029</td>\n",
       "      <td>0.091326</td>\n",
       "      <td>0.091589</td>\n",
       "      <td>0.107302</td>\n",
       "      <td>0.218938</td>\n",
       "      <td>0.026650</td>\n",
       "    </tr>\n",
       "    <tr>\n",
       "      <th>4</th>\n",
       "      <td>DecisionTreeClassifier</td>\n",
       "      <td>[artery_0, artery_1, artery_2, tsvi, x^TLx]</td>\n",
       "      <td>0.696175</td>\n",
       "      <td>0.536844</td>\n",
       "      <td>0.750995</td>\n",
       "      <td>0.613233</td>\n",
       "      <td>0.490909</td>\n",
       "      <td>0.532955</td>\n",
       "      <td>0.037544</td>\n",
       "      <td>0.172123</td>\n",
       "      <td>0.053120</td>\n",
       "      <td>0.027076</td>\n",
       "      <td>0.081312</td>\n",
       "      <td>0.064583</td>\n",
       "    </tr>\n",
       "    <tr>\n",
       "      <th>5</th>\n",
       "      <td>DecisionTreeClassifier</td>\n",
       "      <td>[artery_0, artery_1, artery_2, tsvi, x^TLx, x1...</td>\n",
       "      <td>0.679508</td>\n",
       "      <td>0.497320</td>\n",
       "      <td>0.744207</td>\n",
       "      <td>0.652982</td>\n",
       "      <td>0.490909</td>\n",
       "      <td>0.625000</td>\n",
       "      <td>0.023574</td>\n",
       "      <td>0.140255</td>\n",
       "      <td>0.015393</td>\n",
       "      <td>0.077445</td>\n",
       "      <td>0.081312</td>\n",
       "      <td>0.076230</td>\n",
       "    </tr>\n",
       "  </tbody>\n",
       "</table>\n",
       "</div>"
      ],
      "text/plain": [
       "                    model                                           features  \\\n",
       "0  RandomForestClassifier                     [artery_0, artery_1, artery_2]   \n",
       "1  DecisionTreeClassifier               [artery_0, artery_1, artery_2, tsvi]   \n",
       "2  RandomForestClassifier              [artery_0, artery_1, artery_2, x^TLx]   \n",
       "3  DecisionTreeClassifier  [artery_0, artery_1, artery_2, x^TLx, x1^TLx1,...   \n",
       "4  DecisionTreeClassifier        [artery_0, artery_1, artery_2, tsvi, x^TLx]   \n",
       "5  DecisionTreeClassifier  [artery_0, artery_1, artery_2, tsvi, x^TLx, x1...   \n",
       "\n",
       "   val.1.f1-score.mean  val.0.recall.mean  val.1.auc.mean  \\\n",
       "0             0.500585           0.644455        0.529129   \n",
       "1             0.696175           0.536844        0.747386   \n",
       "2             0.562697           0.561302        0.596413   \n",
       "3             0.566891           0.513953        0.616992   \n",
       "4             0.696175           0.536844        0.750995   \n",
       "5             0.679508           0.497320        0.744207   \n",
       "\n",
       "   test.1.f1-score.mean  test.0.recall.mean  test.1.auc.mean  \\\n",
       "0              0.309091            0.418182         0.361364   \n",
       "1              0.613233            0.490909         0.531818   \n",
       "2              0.619748            0.618182         0.697727   \n",
       "3              0.661422            0.490909         0.761364   \n",
       "4              0.613233            0.490909         0.532955   \n",
       "5              0.652982            0.490909         0.625000   \n",
       "\n",
       "   val.1.f1-score.std  val.0.recall.std  val.1.auc.std  test.1.f1-score.std  \\\n",
       "0            0.127101          0.229141       0.095455             0.132131   \n",
       "1            0.037544          0.172123       0.062229             0.027076   \n",
       "2            0.116223          0.129984       0.083456             0.104156   \n",
       "3            0.130029          0.091326       0.091589             0.107302   \n",
       "4            0.037544          0.172123       0.053120             0.027076   \n",
       "5            0.023574          0.140255       0.015393             0.077445   \n",
       "\n",
       "   test.0.recall.std  test.1.auc.std  \n",
       "0           0.081312        0.049793  \n",
       "1           0.081312        0.052936  \n",
       "2           0.235312        0.078153  \n",
       "3           0.218938        0.026650  \n",
       "4           0.081312        0.064583  \n",
       "5           0.081312        0.076230  "
      ]
     },
     "execution_count": 11,
     "metadata": {},
     "output_type": "execute_result"
    }
   ],
   "source": [
    "df_plot"
   ]
  },
  {
   "cell_type": "code",
   "execution_count": 12,
   "id": "24d1c9ca",
   "metadata": {},
   "outputs": [],
   "source": [
    "def name_features(features):\n",
    "    concat = ' '.join(features)\n",
    "    names = []\n",
    "    if 'artery' in concat:\n",
    "        names.append('Artery type')\n",
    "    if 'tsvi' in concat:\n",
    "        names.append('Tsvi')\n",
    "    if 'x^TLx' in concat:\n",
    "        names.append('Quadratic form')\n",
    "    if 'x1^TLx1' in concat:\n",
    "        names.append('Quadratic form with exponential')\n",
    "    \n",
    "    return '\\n+'.join(names)"
   ]
  },
  {
   "cell_type": "code",
   "execution_count": 13,
   "id": "0042927c",
   "metadata": {},
   "outputs": [
    {
     "data": {
      "text/plain": [
       "['Artery type',\n",
       " 'Artery type\\n+Tsvi',\n",
       " 'Artery type\\n+Quadratic form',\n",
       " 'Artery type\\n+Quadratic form\\n+Quadratic form with exponential',\n",
       " 'Artery type\\n+Tsvi\\n+Quadratic form',\n",
       " 'Artery type\\n+Tsvi\\n+Quadratic form\\n+Quadratic form with exponential']"
      ]
     },
     "execution_count": 13,
     "metadata": {},
     "output_type": "execute_result"
    }
   ],
   "source": [
    "list(map(name_features, df_plot.features.values))"
   ]
  },
  {
   "cell_type": "code",
   "execution_count": 14,
   "id": "8c251378",
   "metadata": {},
   "outputs": [
    {
     "data": {
      "text/plain": [
       "0                       [artery_0, artery_1, artery_2]\n",
       "1                 [artery_0, artery_1, artery_2, tsvi]\n",
       "2                [artery_0, artery_1, artery_2, x^TLx]\n",
       "3    [artery_0, artery_1, artery_2, x^TLx, x1^TLx1,...\n",
       "4          [artery_0, artery_1, artery_2, tsvi, x^TLx]\n",
       "5    [artery_0, artery_1, artery_2, tsvi, x^TLx, x1...\n",
       "Name: features, dtype: object"
      ]
     },
     "execution_count": 14,
     "metadata": {},
     "output_type": "execute_result"
    }
   ],
   "source": [
    "df_plot.features"
   ]
  },
  {
   "cell_type": "code",
   "execution_count": 15,
   "id": "6bf2a4dd",
   "metadata": {},
   "outputs": [
    {
     "data": {
      "text/plain": [
       "['Artery type',\n",
       " 'Artery type\\n+Tsvi',\n",
       " 'Artery type\\n+Quadratic form',\n",
       " 'Artery type\\n+Quadratic form\\n+Quadratic form with exponential',\n",
       " 'Artery type\\n+Tsvi\\n+Quadratic form',\n",
       " 'Artery type\\n+Tsvi\\n+Quadratic form\\n+Quadratic form with exponential']"
      ]
     },
     "execution_count": 15,
     "metadata": {},
     "output_type": "execute_result"
    }
   ],
   "source": [
    "list(map(name_features, df_plot.features))"
   ]
  },
  {
   "cell_type": "code",
   "execution_count": 21,
   "id": "8122c5e5",
   "metadata": {},
   "outputs": [
    {
     "name": "stderr",
     "output_type": "stream",
     "text": [
      "/home/maousi/miniconda3/envs/gnn/lib/python3.7/site-packages/ipykernel_launcher.py:10: UserWarning: FixedFormatter should only be used together with FixedLocator\n",
      "  # Remove the CWD from sys.path while we load stuff.\n",
      "/home/maousi/miniconda3/envs/gnn/lib/python3.7/site-packages/ipykernel_launcher.py:10: UserWarning: FixedFormatter should only be used together with FixedLocator\n",
      "  # Remove the CWD from sys.path while we load stuff.\n",
      "/home/maousi/miniconda3/envs/gnn/lib/python3.7/site-packages/ipykernel_launcher.py:10: UserWarning: FixedFormatter should only be used together with FixedLocator\n",
      "  # Remove the CWD from sys.path while we load stuff.\n",
      "/home/maousi/miniconda3/envs/gnn/lib/python3.7/site-packages/ipykernel_launcher.py:13: MatplotlibDeprecationWarning: Support for passing numbers through unit converters is deprecated since 3.5 and support will be removed two minor releases later; use Axis.convert_units instead.\n",
      "  del sys.path[0]\n",
      "/home/maousi/miniconda3/envs/gnn/lib/python3.7/site-packages/ipykernel_launcher.py:13: MatplotlibDeprecationWarning: Support for passing numbers through unit converters is deprecated since 3.5 and support will be removed two minor releases later; use Axis.convert_units instead.\n",
      "  del sys.path[0]\n"
     ]
    },
    {
     "data": {
      "image/png": "[encoded data removed]",
      "text/plain": [
       "<Figure size 1116x432 with 3 Axes>"
      ]
     },
     "metadata": {},
     "output_type": "display_data"
    }
   ],
   "source": [
    "ms = ['val.1.f1-score', 'val.0.recall', 'val.1.auc']\n",
    "df_tmp = df_plot.copy()\n",
    "df_tmp.index = df_tmp.features.apply(name_features)\n",
    "\n",
    "_, ax = plt.subplots(1, len(ms), figsize=(len(ms) * 5 + 0.5, 6))\n",
    "colors = sns.color_palette('deep', n_colors=df_tmp.shape[0])\n",
    "for a, m in zip(ax, ms):\n",
    "    l = a.barh(y=df_tmp.index, width=df_tmp[(m+'.mean')], xerr=df_tmp[(m+'.std')], alpha=0.6, color=colors)\n",
    "    a.set_xlabel(m)\n",
    "    a.set_yticklabels(list(map(name_features, df_tmp.features)))\n",
    "    \n",
    "for a in ax[1:]:\n",
    "    a.set_yticks([])\n",
    "ax[0].set_xlabel('Validation F1 score')\n",
    "ax[1].set_xlabel('Validation specificity')\n",
    "ax[2].set_xlabel('Validation ROC AUC')\n",
    "ax[0].set_ylabel('Model features')\n",
    "#plt.suptitle('Baseline models results on validation set')\n",
    "#plt.suptitle(r'Baseline model results, quadratic form refers to $\\mathbf x^\\top L \\mathbf x$, with exponential refers to '\n",
    "#             r'$(\\mathbf x^\\top e^{-\\tau L}) L (e^{-\\tau L} \\mathbf x)$ for $\\tau = 1,3,5,9$')\n",
    "plt.tight_layout()\n",
    "process_figure('figs/baseline_validation.pdf')"
   ]
  },
  {
   "cell_type": "code",
   "execution_count": 22,
   "id": "feb5a621",
   "metadata": {},
   "outputs": [
    {
     "name": "stderr",
     "output_type": "stream",
     "text": [
      "/home/maousi/miniconda3/envs/gnn/lib/python3.7/site-packages/ipykernel_launcher.py:10: MatplotlibDeprecationWarning: Support for passing numbers through unit converters is deprecated since 3.5 and support will be removed two minor releases later; use Axis.convert_units instead.\n",
      "  # Remove the CWD from sys.path while we load stuff.\n",
      "/home/maousi/miniconda3/envs/gnn/lib/python3.7/site-packages/ipykernel_launcher.py:10: MatplotlibDeprecationWarning: Support for passing numbers through unit converters is deprecated since 3.5 and support will be removed two minor releases later; use Axis.convert_units instead.\n",
      "  # Remove the CWD from sys.path while we load stuff.\n"
     ]
    },
    {
     "data": {
      "image/png": "[encoded data removed]",
      "text/plain": [
       "<Figure size 1116x432 with 3 Axes>"
      ]
     },
     "metadata": {},
     "output_type": "display_data"
    }
   ],
   "source": [
    "ms = ['test.1.f1-score', 'test.0.recall', 'test.1.auc']\n",
    "\n",
    "_, ax = plt.subplots(1, len(ms), figsize=(len(ms) * 5 + 0.5, 6))\n",
    "colors = sns.color_palette('deep', n_colors=df_tmp.shape[0])\n",
    "for a, m in zip(ax, ms):\n",
    "    l = a.barh(y=df_tmp.index, width=df_tmp[(m+'.mean')], xerr=df_tmp[(m+'.std')], alpha=0.6, color=colors)\n",
    "    a.set_xlabel(m)\n",
    "    \n",
    "for a in ax[1:]:\n",
    "    a.set_yticks([])\n",
    "ax[0].set_xlabel('Test F1 score')\n",
    "ax[1].set_xlabel('Test specificity')\n",
    "ax[2].set_xlabel('Test ROC AUC')\n",
    "plt.tight_layout()\n",
    "process_figure('figs/baseline_test.pdf')"
   ]
  },
  {
   "cell_type": "markdown",
   "id": "535a1aea",
   "metadata": {},
   "source": [
    "## Alternative Test splits\n",
    "\n",
    "We try an alternative splitting procedure: just do 100 randoom train/test splits and use models that were selected above."
   ]
  },
  {
   "cell_type": "code",
   "execution_count": 55,
   "id": "a9eae7fe",
   "metadata": {},
   "outputs": [
    {
     "name": "stderr",
     "output_type": "stream",
     "text": [
      "2022-06-01 17:22:55,932 [setup] [INFO] get_data_path(): using user-defined data path\n",
      "2022-06-01 17:22:55,933 [setup] [INFO] get_data_path(): using user-defined data path\n",
      "2022-06-01 17:22:56,077 [datasets] [INFO] split_data (test_set, split_list) = (PatientDataset(19, type=test, in_memory=True), [(PatientDataset(117, type=train, in_memory=True), PatientDataset(52, type=val, in_memory=True))])\n",
      "2022-06-01 17:22:56,077 [datasets] [INFO] sanity checking data splits\n"
     ]
    }
   ],
   "source": [
    "config = {\n",
    "    'dataset.name': 'CoordToCnc_perimeter',\n",
    "    'dataset.num_node_features': 1,\n",
    "    'cv.seed': 0,\n",
    "    'dataset.in_memory': True\n",
    "}\n",
    "\n",
    "test_set, split_list = split_data(path=setup.get_dataset_path(config['dataset.name']),\n",
    "                                  num_node_features=config['dataset.num_node_features'],\n",
    "                                  seed=config['cv.seed'],\n",
    "                                  cv=False,\n",
    "                                  \n",
    "                                  # Args for PatientDataset\n",
    "                                  in_memory=config['dataset.in_memory'])"
   ]
  },
  {
   "cell_type": "code",
   "execution_count": 56,
   "id": "26502cc3",
   "metadata": {},
   "outputs": [
    {
     "data": {
      "text/plain": [
       "(PatientDataset(19, type=test, in_memory=True),\n",
       " [(PatientDataset(117, type=train, in_memory=True),\n",
       "   PatientDataset(52, type=val, in_memory=True))])"
      ]
     },
     "execution_count": 56,
     "metadata": {},
     "output_type": "execute_result"
    }
   ],
   "source": [
    "test_set, split_list"
   ]
  },
  {
   "cell_type": "code",
   "execution_count": 57,
   "id": "087fee26",
   "metadata": {},
   "outputs": [
    {
     "data": {
      "text/plain": [
       "PatientDataset(188, type=None, in_memory=True)"
      ]
     },
     "execution_count": 57,
     "metadata": {},
     "output_type": "execute_result"
    }
   ],
   "source": [
    "dataset = test_set + split_list[0][0] + split_list[0][1]\n",
    "dataset"
   ]
  },
  {
   "cell_type": "code",
   "execution_count": 58,
   "id": "a48fc7e6",
   "metadata": {},
   "outputs": [],
   "source": [
    "test_ratio = 0.2\n",
    "n = 100\n",
    "\n",
    "split_list = [\n",
    "    dataset.split(test_ratio) for _ in range(n)\n",
    "]"
   ]
  },
  {
   "cell_type": "code",
   "execution_count": 59,
   "id": "e744bf5b",
   "metadata": {},
   "outputs": [
    {
     "name": "stdout",
     "output_type": "stream",
     "text": [
      "RandomForestClassifier\n",
      "DecisionTreeClassifier\n",
      "RandomForestClassifier\n",
      "DecisionTreeClassifier\n",
      "DecisionTreeClassifier\n",
      "DecisionTreeClassifier\n"
     ]
    }
   ],
   "source": [
    "res = []\n",
    "for id_dataset, id_model, params in tuning_winners:\n",
    "    clf, _ = sklearn_models[id_model]\n",
    "    clf.set_params(**params)\n",
    "    print(clf.__class__.__name__)\n",
    "    model = Model(clf, datasets[id_dataset])\n",
    "    summary = model.pipeline(split_list, test_set)\n",
    "    buffer = model.describe_model()\n",
    "    buffer['summary'] = summary\n",
    "    res.append(buffer)"
   ]
  },
  {
   "cell_type": "code",
   "execution_count": 60,
   "id": "e476a9d8",
   "metadata": {},
   "outputs": [],
   "source": [
    "ms = ['val.1.f1-score', 'val.0.recall', 'val.1.auc', 'test.1.f1-score', 'test.0.recall', 'test.1.auc']\n",
    "df = []\n",
    "for dic in res:\n",
    "    df.append({\n",
    "        'model': dic['model_name'],\n",
    "        'features': dic['data_feature_names'],\n",
    "    })\n",
    "    for m in ms:\n",
    "        df[-1].update({\n",
    "            m + '.mean': dic['summary'].loc[m, 'mean'] for m in ms\n",
    "        })\n",
    "        df[-1].update({\n",
    "            m + '.std': dic['summary'].loc[m, 'std'] for m in ms\n",
    "        })\n",
    "        \n",
    "df_plot = pd.DataFrame(df)"
   ]
  },
  {
   "cell_type": "code",
   "execution_count": 23,
   "id": "84214611",
   "metadata": {},
   "outputs": [
    {
     "name": "stderr",
     "output_type": "stream",
     "text": [
      "/home/maousi/miniconda3/envs/gnn/lib/python3.7/site-packages/ipykernel_launcher.py:10: UserWarning: FixedFormatter should only be used together with FixedLocator\n",
      "  # Remove the CWD from sys.path while we load stuff.\n",
      "/home/maousi/miniconda3/envs/gnn/lib/python3.7/site-packages/ipykernel_launcher.py:10: UserWarning: FixedFormatter should only be used together with FixedLocator\n",
      "  # Remove the CWD from sys.path while we load stuff.\n",
      "/home/maousi/miniconda3/envs/gnn/lib/python3.7/site-packages/ipykernel_launcher.py:10: UserWarning: FixedFormatter should only be used together with FixedLocator\n",
      "  # Remove the CWD from sys.path while we load stuff.\n",
      "/home/maousi/miniconda3/envs/gnn/lib/python3.7/site-packages/ipykernel_launcher.py:13: MatplotlibDeprecationWarning: Support for passing numbers through unit converters is deprecated since 3.5 and support will be removed two minor releases later; use Axis.convert_units instead.\n",
      "  del sys.path[0]\n",
      "/home/maousi/miniconda3/envs/gnn/lib/python3.7/site-packages/ipykernel_launcher.py:13: MatplotlibDeprecationWarning: Support for passing numbers through unit converters is deprecated since 3.5 and support will be removed two minor releases later; use Axis.convert_units instead.\n",
      "  del sys.path[0]\n"
     ]
    },
    {
     "data": {
      "image/png": "[encoded data removed]",
      "text/plain": [
       "<Figure size 1116x576 with 3 Axes>"
      ]
     },
     "metadata": {},
     "output_type": "display_data"
    }
   ],
   "source": [
    "ms = ['val.1.f1-score', 'val.0.recall', 'val.1.auc']\n",
    "df_tmp = df_plot.copy()\n",
    "df_tmp.index = df_tmp.features.apply(name_features)\n",
    "\n",
    "_, ax = plt.subplots(1, len(ms), figsize=(len(ms) * 5 + 0.5, 8))\n",
    "colors = sns.color_palette('deep', n_colors=df_tmp.shape[0])\n",
    "for a, m in zip(ax, ms):\n",
    "    l = a.barh(y=df_tmp.index, width=df_tmp[(m+'.mean')], xerr=df_tmp[(m+'.std')], alpha=0.6, color=colors)\n",
    "    a.set_xlabel(m)\n",
    "    a.set_yticklabels(list(map(name_features, df_tmp.features)))\n",
    "    \n",
    "for a in ax[1:]:\n",
    "    a.set_yticks([])\n",
    "ax[0].set_xlabel('Validation F1 score')\n",
    "ax[1].set_xlabel('Validation specificity')\n",
    "ax[2].set_xlabel('Validation ROC AUC')\n",
    "ax[0].set_ylabel('Model features')\n",
    "#plt.suptitle(r'Baseline model results, alternative split procedure')\n",
    "plt.tight_layout()\n",
    "process_figure('figs/baseline_validation_alternative.pdf')"
   ]
  },
  {
   "cell_type": "code",
   "execution_count": 26,
   "id": "e52e31ca",
   "metadata": {},
   "outputs": [],
   "source": [
    "df_tmp.to_csv('data/baseline_mc.csv')"
   ]
  }
 ],
 "metadata": {
  "kernelspec": {
   "display_name": "Python [conda env:gnn]",
   "language": "python",
   "name": "conda-env-gnn-py"
  },
  "language_info": {
   "codemirror_mode": {
    "name": "ipython",
    "version": 3
   },
   "file_extension": ".py",
   "mimetype": "text/x-python",
   "name": "python",
   "nbconvert_exporter": "python",
   "pygments_lexer": "ipython3",
   "version": "3.7.11"
  }
 },
 "nbformat": 4,
 "nbformat_minor": 5
}
